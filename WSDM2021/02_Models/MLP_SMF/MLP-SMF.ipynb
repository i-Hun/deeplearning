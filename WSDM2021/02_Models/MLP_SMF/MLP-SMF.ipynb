{
 "cells": [
  {
   "cell_type": "markdown",
   "metadata": {},
   "source": [
    "The MIT License (MIT)\n",
    "\n",
    "Copyright (c) 2021 NVIDIA CORPORATION\n",
    "\n",
    "Permission is hereby granted, free of charge, to any person obtaining a copy of\n",
    "this software and associated documentation files (the \"Software\"), to deal in\n",
    "the Software without restriction, including without limitation the rights to\n",
    "use, copy, modify, merge, publish, distribute, sublicense, and/or sell copies of\n",
    "the Software, and to permit persons to whom the Software is furnished to do so,\n",
    "subject to the following conditions:\n",
    "\n",
    "The above copyright notice and this permission notice shall be included in all\n",
    "copies or substantial portions of the Software.\n",
    "\n",
    "THE SOFTWARE IS PROVIDED \"AS IS\", WITHOUT WARRANTY OF ANY KIND, EXPRESS OR\n",
    "IMPLIED, INCLUDING BUT NOT LIMITED TO THE WARRANTIES OF MERCHANTABILITY, FITNESS\n",
    "FOR A PARTICULAR PURPOSE AND NONINFRINGEMENT. IN NO EVENT SHALL THE AUTHORS OR\n",
    "COPYRIGHT HOLDERS BE LIABLE FOR ANY CLAIM, DAMAGES OR OTHER LIABILITY, WHETHER\n",
    "IN AN ACTION OF CONTRACT, TORT OR OTHERWISE, ARISING FROM, OUT OF OR IN\n",
    "CONNECTION WITH THE SOFTWARE OR THE USE OR OTHER DEALINGS IN THE SOFTWARE."
   ]
  },
  {
   "cell_type": "code",
   "execution_count": 1,
   "metadata": {
    "execution": {
     "iopub.execute_input": "2021-06-11T21:55:19.206281Z",
     "iopub.status.busy": "2021-06-11T21:55:19.205520Z",
     "iopub.status.idle": "2021-06-11T21:55:19.216433Z",
     "shell.execute_reply": "2021-06-11T21:55:19.214791Z",
     "shell.execute_reply.started": "2021-06-11T21:55:19.206209Z"
    }
   },
   "outputs": [],
   "source": [
    "import argparse\n",
    "import os\n",
    "import sys\n",
    "from pathlib import Path\n",
    "\n",
    "#os.environ['CUDA_VISIBLE_DEVICES'] = \"0\"\n",
    "\n",
    "#fname = 'cpmp_092'\n",
    "\n",
    "#checkpoint_path = Path('./checkpoints') / fname\n",
    "\n",
    "# if not checkpoint_path.exists():\n",
    "#     checkpoint_path.mkdir(parents=True)\n",
    "# else:\n",
    "#     sys.exit()\n",
    "    \n",
    "input_path = Path('../../00_Data/')\n"
   ]
  },
  {
   "cell_type": "code",
   "execution_count": 2,
   "metadata": {
    "execution": {
     "iopub.execute_input": "2021-06-11T21:55:20.837175Z",
     "iopub.status.busy": "2021-06-11T21:55:20.836433Z",
     "iopub.status.idle": "2021-06-11T21:55:20.844609Z",
     "shell.execute_reply": "2021-06-11T21:55:20.842969Z",
     "shell.execute_reply.started": "2021-06-11T21:55:20.837100Z"
    }
   },
   "outputs": [],
   "source": [
    "LOW_CITY_THR = 9"
   ]
  },
  {
   "cell_type": "code",
   "execution_count": 4,
   "metadata": {
    "execution": {
     "iopub.execute_input": "2021-06-11T21:55:49.488389Z",
     "iopub.status.busy": "2021-06-11T21:55:49.487642Z",
     "iopub.status.idle": "2021-06-11T21:55:50.607814Z",
     "shell.execute_reply": "2021-06-11T21:55:50.606648Z",
     "shell.execute_reply.started": "2021-06-11T21:55:49.488318Z"
    }
   },
   "outputs": [],
   "source": [
    "import logging\n",
    "import os\n",
    "import random\n",
    "import time\n",
    "import warnings\n",
    "import pickle as pkl\n",
    "import numpy as np\n",
    "import pandas as pd\n",
    "import pandas as cudf\n",
    "import numpy as cupy\n",
    "import torch\n",
    "import torch.nn as nn\n",
    "import torch.nn.functional as F\n",
    "from torch.utils.data import DataLoader, Dataset\n",
    "from torch.cuda.amp import autocast, GradScaler\n",
    "import matplotlib.pyplot as plt\n",
    "%matplotlib inline\n",
    "\n",
    "from scipy.sparse import coo_matrix\n",
    "from sklearn.decomposition import TruncatedSVD\n",
    "from tqdm import tqdm\n",
    "import gc"
   ]
  },
  {
   "cell_type": "code",
   "execution_count": 5,
   "metadata": {
    "execution": {
     "iopub.execute_input": "2021-06-11T21:55:53.794285Z",
     "iopub.status.busy": "2021-06-11T21:55:53.793585Z",
     "iopub.status.idle": "2021-06-11T21:55:53.803654Z",
     "shell.execute_reply": "2021-06-11T21:55:53.802622Z",
     "shell.execute_reply.started": "2021-06-11T21:55:53.794212Z"
    }
   },
   "outputs": [],
   "source": [
    "def shift_feature(df, groupby_col, col, offset, nan=-1, colname=''):\n",
    "    df[colname] = df[col].shift(offset)\n",
    "    df.loc[df[groupby_col]!=df[groupby_col].shift(offset), colname] = nan"
   ]
  },
  {
   "cell_type": "code",
   "execution_count": 6,
   "metadata": {
    "execution": {
     "iopub.execute_input": "2021-06-11T21:55:55.018370Z",
     "iopub.status.busy": "2021-06-11T21:55:55.017616Z",
     "iopub.status.idle": "2021-06-11T21:55:55.026043Z",
     "shell.execute_reply": "2021-06-11T21:55:55.024843Z",
     "shell.execute_reply.started": "2021-06-11T21:55:55.018300Z"
    }
   },
   "outputs": [],
   "source": [
    "pd.options.display.max_columns = 100"
   ]
  },
  {
   "cell_type": "code",
   "execution_count": 7,
   "metadata": {
    "execution": {
     "iopub.execute_input": "2021-06-11T21:55:55.494232Z",
     "iopub.status.busy": "2021-06-11T21:55:55.493572Z",
     "iopub.status.idle": "2021-06-11T21:55:55.505276Z",
     "shell.execute_reply": "2021-06-11T21:55:55.504481Z",
     "shell.execute_reply.started": "2021-06-11T21:55:55.494164Z"
    }
   },
   "outputs": [],
   "source": [
    "def seed_torch(seed_value):\n",
    "    random.seed(seed_value) # Python\n",
    "    np.random.seed(seed_value) # cpu vars\n",
    "    torch.manual_seed(seed_value) # cpu  vars    \n",
    "    if torch.cuda.is_available(): \n",
    "        torch.cuda.manual_seed(seed_value)\n",
    "        torch.cuda.manual_seed_all(seed_value) # gpu vars\n",
    "    if torch.backends.cudnn.is_available:\n",
    "        torch.backends.cudnn.deterministic = True\n",
    "        torch.backends.cudnn.benchmark = False"
   ]
  },
  {
   "cell_type": "code",
   "execution_count": 8,
   "metadata": {
    "execution": {
     "iopub.execute_input": "2021-06-11T21:55:57.064349Z",
     "iopub.status.busy": "2021-06-11T21:55:57.063574Z",
     "iopub.status.idle": "2021-06-11T21:55:57.080386Z",
     "shell.execute_reply": "2021-06-11T21:55:57.079343Z",
     "shell.execute_reply.started": "2021-06-11T21:55:57.064274Z"
    }
   },
   "outputs": [],
   "source": [
    "# Return top4 metric\n",
    "# istest: flag to select if metric should be computed in 0:train, 1:test,\n",
    "# pos: select which city to calculate the metric, 0: last, 1: last-1, 2:last-2 , -1: all\n",
    "# the input `val` dataframe must contains the target `city_id` and the 4 recommendations as: rec0, res1, rec2 and rec3\n",
    "\n",
    "def top4_metric( val, istest=0, pos=0 , target='city_id'):\n",
    "    \n",
    "    if istest>=0:\n",
    "        val = val.loc[ (val.submission==0) & (val.istest == istest) ]\n",
    "    else:\n",
    "        val = val.loc[ (val.submission==0) ]\n",
    "\n",
    "    if pos >= 0:\n",
    "        top1 = val.loc[val.icount==pos,target] == val.loc[val.icount==pos,'rec0']\n",
    "        top2 = val.loc[val.icount==pos,target] == val.loc[val.icount==pos,'rec1']\n",
    "        top3 = val.loc[val.icount==pos,target] == val.loc[val.icount==pos,'rec2']\n",
    "        top4 = val.loc[val.icount==pos,target] == val.loc[val.icount==pos,'rec3']\n",
    "    else:\n",
    "        top1 = val[target] == val['rec0']\n",
    "        top2 = val[target] == val['rec1']\n",
    "        top3 = val[target] == val['rec2']\n",
    "        top4 = val[target] == val['rec3']\n",
    "        \n",
    "    return (top1|top2|top3|top4).mean()    "
   ]
  },
  {
   "cell_type": "code",
   "execution_count": 9,
   "metadata": {
    "execution": {
     "iopub.execute_input": "2021-06-11T21:56:15.189847Z",
     "iopub.status.busy": "2021-06-11T21:56:15.189038Z",
     "iopub.status.idle": "2021-06-11T21:56:15.707074Z",
     "shell.execute_reply": "2021-06-11T21:56:15.705326Z",
     "shell.execute_reply.started": "2021-06-11T21:56:15.189769Z"
    }
   },
   "outputs": [
    {
     "name": "stdout",
     "output_type": "stream",
     "text": [
      "(1545502, 16)\n"
     ]
    }
   ],
   "source": [
    "raw = cudf.read_parquet(input_path / 'train_and_test_2.pq')\n",
    "print(raw.shape)"
   ]
  },
  {
   "cell_type": "code",
   "execution_count": 10,
   "metadata": {
    "execution": {
     "iopub.execute_input": "2021-06-11T21:56:18.329807Z",
     "iopub.status.busy": "2021-06-11T21:56:18.329019Z",
     "iopub.status.idle": "2021-06-11T21:56:18.420570Z",
     "shell.execute_reply": "2021-06-11T21:56:18.419033Z",
     "shell.execute_reply.started": "2021-06-11T21:56:18.329733Z"
    }
   },
   "outputs": [],
   "source": [
    "raw.loc[raw['city_id'] == 0, 'city_id'] = np.NaN"
   ]
  },
  {
   "cell_type": "code",
   "execution_count": 11,
   "metadata": {
    "execution": {
     "iopub.execute_input": "2021-06-11T21:56:19.840492Z",
     "iopub.status.busy": "2021-06-11T21:56:19.839710Z",
     "iopub.status.idle": "2021-06-11T21:56:22.071452Z",
     "shell.execute_reply": "2021-06-11T21:56:22.070564Z",
     "shell.execute_reply.started": "2021-06-11T21:56:19.840413Z"
    }
   },
   "outputs": [],
   "source": [
    "df = raw[(raw.istest == 0) | (raw.icount > 0)].groupby('city_id').utrip_id.count().reset_index()\n",
    "df\n",
    "\n",
    "df.columns = ['city_id', 'city_count']\n",
    "raw = raw.merge(df, how='left', on='city_id')\n",
    "raw.loc[raw.city_count <= LOW_CITY_THR, 'city_id'] = -1\n",
    "raw = raw.sort_values(['utrip_id', 'checkin'])"
   ]
  },
  {
   "cell_type": "code",
   "execution_count": 12,
   "metadata": {
    "execution": {
     "iopub.execute_input": "2021-06-11T21:56:22.072904Z",
     "iopub.status.busy": "2021-06-11T21:56:22.072677Z",
     "iopub.status.idle": "2021-06-11T21:56:22.329416Z",
     "shell.execute_reply": "2021-06-11T21:56:22.328624Z",
     "shell.execute_reply.started": "2021-06-11T21:56:22.072879Z"
    }
   },
   "outputs": [
    {
     "name": "stdout",
     "output_type": "stream",
     "text": [
      "created city_id_\n",
      "created hotel_country_\n",
      "created booker_country_\n",
      "created device_class_\n"
     ]
    }
   ],
   "source": [
    "CATS = ['city_id', 'hotel_country', 'booker_country', 'device_class']\n",
    "MAPS = []\n",
    "for c in CATS:\n",
    "    raw[c+'_'], mp = raw[c].factorize()\n",
    "    MAPS.append(mp)\n",
    "    print('created', c+'_')   \n"
   ]
  },
  {
   "cell_type": "code",
   "execution_count": 14,
   "metadata": {
    "execution": {
     "iopub.execute_input": "2021-06-11T21:56:34.228246Z",
     "iopub.status.busy": "2021-06-11T21:56:34.227533Z",
     "iopub.status.idle": "2021-06-11T21:56:34.237516Z",
     "shell.execute_reply": "2021-06-11T21:56:34.236642Z",
     "shell.execute_reply.started": "2021-06-11T21:56:34.228183Z"
    }
   },
   "outputs": [
    {
     "data": {
      "text/plain": [
       "55"
      ]
     },
     "execution_count": 14,
     "metadata": {},
     "output_type": "execute_result"
    }
   ],
   "source": [
    "LOW_CITY = np.where(MAPS[0] == -1)[0][0]\n",
    "LOW_CITY"
   ]
  },
  {
   "cell_type": "code",
   "execution_count": 19,
   "metadata": {
    "execution": {
     "iopub.execute_input": "2021-06-11T21:57:45.130693Z",
     "iopub.status.busy": "2021-06-11T21:57:45.129933Z",
     "iopub.status.idle": "2021-06-11T21:57:45.147871Z",
     "shell.execute_reply": "2021-06-11T21:57:45.147093Z",
     "shell.execute_reply.started": "2021-06-11T21:57:45.130621Z"
    }
   },
   "outputs": [],
   "source": [
    "NUM_CITIES = raw.city_id_.max()+1\n",
    "NUM_HOTELS = raw.hotel_country_.max()+1\n",
    "NUM_DEVICE = raw.device_class_.max() + 1"
   ]
  },
  {
   "cell_type": "code",
   "execution_count": 70,
   "metadata": {
    "execution": {
     "iopub.execute_input": "2021-06-12T05:40:49.574168Z",
     "iopub.status.busy": "2021-06-12T05:40:49.573415Z",
     "iopub.status.idle": "2021-06-12T05:40:50.421345Z",
     "shell.execute_reply": "2021-06-12T05:40:50.420683Z",
     "shell.execute_reply.started": "2021-06-12T05:40:49.574094Z"
    }
   },
   "outputs": [
    {
     "data": {
      "text/plain": [
       "4     228729\n",
       "5     116057\n",
       "6      63739\n",
       "7      37546\n",
       "8      21967\n",
       "9      13459\n",
       "10      8286\n",
       "11      5200\n",
       "12      3337\n",
       "13      2062\n",
       "14      1345\n",
       "3       1186\n",
       "15       850\n",
       "16       518\n",
       "2        348\n",
       "17       322\n",
       "1        226\n",
       "18       221\n",
       "19       142\n",
       "20       141\n",
       "21        85\n",
       "22        70\n",
       "23        51\n",
       "25        30\n",
       "24        28\n",
       "26        15\n",
       "28        14\n",
       "27         8\n",
       "33         8\n",
       "39         6\n",
       "30         6\n",
       "36         6\n",
       "31         4\n",
       "41         4\n",
       "44         3\n",
       "32         3\n",
       "35         3\n",
       "45         2\n",
       "34         2\n",
       "29         2\n",
       "48         2\n",
       "40         1\n",
       "dtype: int64"
      ]
     },
     "execution_count": 70,
     "metadata": {},
     "output_type": "execute_result"
    }
   ],
   "source": [
    "raw.groupby(\"utrip_id\").size().value_counts()"
   ]
  },
  {
   "cell_type": "code",
   "execution_count": 20,
   "metadata": {
    "execution": {
     "iopub.execute_input": "2021-06-11T21:57:46.496013Z",
     "iopub.status.busy": "2021-06-11T21:57:46.495254Z",
     "iopub.status.idle": "2021-06-11T21:57:47.028381Z",
     "shell.execute_reply": "2021-06-11T21:57:47.027457Z",
     "shell.execute_reply.started": "2021-06-11T21:57:46.495939Z"
    }
   },
   "outputs": [],
   "source": [
    "raw['reverse'] = 0\n",
    "rev_raw = raw[raw.istest == 0].copy()\n",
    "rev_raw['reverse'] = 1\n",
    "rev_raw['utrip_id'] = rev_raw['utrip_id']+'_r'"
   ]
  },
  {
   "cell_type": "code",
   "execution_count": 21,
   "metadata": {
    "execution": {
     "iopub.execute_input": "2021-06-11T21:57:48.209469Z",
     "iopub.status.busy": "2021-06-11T21:57:48.208745Z",
     "iopub.status.idle": "2021-06-11T21:57:49.931817Z",
     "shell.execute_reply": "2021-06-11T21:57:49.930943Z",
     "shell.execute_reply.started": "2021-06-11T21:57:48.209398Z"
    }
   },
   "outputs": [],
   "source": [
    "tmp = rev_raw['icount'].values.copy()\n",
    "rev_raw['icount'] = rev_raw['dcount']\n",
    "rev_raw['dcount'] = tmp\n",
    "rev_raw = rev_raw.sort_values(['utrip_id', 'dcount']).reset_index(drop=True)\n",
    "raw = cudf.concat([raw, rev_raw]).reset_index(drop=True)"
   ]
  },
  {
   "cell_type": "code",
   "execution_count": 22,
   "metadata": {
    "execution": {
     "iopub.execute_input": "2021-06-11T21:57:49.933264Z",
     "iopub.status.busy": "2021-06-11T21:57:49.933052Z",
     "iopub.status.idle": "2021-06-11T21:57:50.414704Z",
     "shell.execute_reply": "2021-06-11T21:57:50.413809Z",
     "shell.execute_reply.started": "2021-06-11T21:57:49.933240Z"
    }
   },
   "outputs": [],
   "source": [
    "raw['sorting'] = cupy.asarray(range(raw.shape[0]))"
   ]
  },
  {
   "cell_type": "code",
   "execution_count": 23,
   "metadata": {
    "execution": {
     "iopub.execute_input": "2021-06-11T21:57:50.416242Z",
     "iopub.status.busy": "2021-06-11T21:57:50.416036Z",
     "iopub.status.idle": "2021-06-11T21:57:50.677797Z",
     "shell.execute_reply": "2021-06-11T21:57:50.676921Z",
     "shell.execute_reply.started": "2021-06-11T21:57:50.416219Z"
    }
   },
   "outputs": [],
   "source": [
    "raw['utrip_id'+'_'], mp = raw['utrip_id'].factorize()"
   ]
  },
  {
   "cell_type": "code",
   "execution_count": 24,
   "metadata": {
    "execution": {
     "iopub.execute_input": "2021-06-11T21:57:50.836626Z",
     "iopub.status.busy": "2021-06-11T21:57:50.835965Z",
     "iopub.status.idle": "2021-06-11T21:57:53.224506Z",
     "shell.execute_reply": "2021-06-11T21:57:53.223208Z",
     "shell.execute_reply.started": "2021-06-11T21:57:50.836556Z"
    }
   },
   "outputs": [],
   "source": [
    "# ENGINEER LAG FEATURES\n",
    "LAGS=5\n",
    "lag_cities = []\n",
    "lag_countries = []\n",
    "\n",
    "for i in range(1,LAGS+1):\n",
    "    shift_feature(raw, 'utrip_id_', 'city_id_', i, NUM_CITIES, f'city_id_lag{i}')\n",
    "    lag_cities.append(f'city_id_lag{i}')\n",
    "    shift_feature(raw, 'utrip_id_', 'hotel_country_', i, NUM_HOTELS, f'country_lag{i}')\n",
    "    lag_countries.append(f'country_lag{i}')"
   ]
  },
  {
   "cell_type": "code",
   "execution_count": 25,
   "metadata": {
    "execution": {
     "iopub.execute_input": "2021-06-11T21:57:53.226019Z",
     "iopub.status.busy": "2021-06-11T21:57:53.225802Z",
     "iopub.status.idle": "2021-06-11T21:57:53.230941Z",
     "shell.execute_reply": "2021-06-11T21:57:53.230218Z",
     "shell.execute_reply.started": "2021-06-11T21:57:53.225997Z"
    }
   },
   "outputs": [
    {
     "data": {
      "text/plain": [
       "['city_id_lag1',\n",
       " 'city_id_lag2',\n",
       " 'city_id_lag3',\n",
       " 'city_id_lag4',\n",
       " 'city_id_lag5']"
      ]
     },
     "execution_count": 25,
     "metadata": {},
     "output_type": "execute_result"
    }
   ],
   "source": [
    "lag_cities"
   ]
  },
  {
   "cell_type": "code",
   "execution_count": 26,
   "metadata": {
    "execution": {
     "iopub.execute_input": "2021-06-11T21:57:53.232338Z",
     "iopub.status.busy": "2021-06-11T21:57:53.232152Z",
     "iopub.status.idle": "2021-06-11T21:57:53.237339Z",
     "shell.execute_reply": "2021-06-11T21:57:53.236716Z",
     "shell.execute_reply.started": "2021-06-11T21:57:53.232317Z"
    }
   },
   "outputs": [
    {
     "data": {
      "text/plain": [
       "['country_lag1',\n",
       " 'country_lag2',\n",
       " 'country_lag3',\n",
       " 'country_lag4',\n",
       " 'country_lag5']"
      ]
     },
     "execution_count": 26,
     "metadata": {},
     "output_type": "execute_result"
    }
   ],
   "source": [
    "#lag_countries = lag_countries[:1]\n",
    "lag_countries"
   ]
  },
  {
   "cell_type": "code",
   "execution_count": 27,
   "metadata": {
    "execution": {
     "iopub.execute_input": "2021-06-11T21:57:54.619470Z",
     "iopub.status.busy": "2021-06-11T21:57:54.618733Z",
     "iopub.status.idle": "2021-06-11T21:58:00.355272Z",
     "shell.execute_reply": "2021-06-11T21:58:00.354417Z",
     "shell.execute_reply.started": "2021-06-11T21:57:54.619398Z"
    }
   },
   "outputs": [],
   "source": [
    "tmpD = raw[raw['dcount']==0][['utrip_id', 'city_id_']]\n",
    "tmpD.columns = ['utrip_id', 'first_city']\n",
    "raw = raw.merge(tmpD,on='utrip_id',how='left')\n",
    "tmpD = raw[raw['dcount']==0][['utrip_id', 'hotel_country_']]\n",
    "tmpD.columns = ['utrip_id', 'first_country']\n",
    "raw = raw.merge(tmpD,on='utrip_id',how='left')"
   ]
  },
  {
   "cell_type": "code",
   "execution_count": 28,
   "metadata": {
    "execution": {
     "iopub.execute_input": "2021-06-11T21:58:04.368548Z",
     "iopub.status.busy": "2021-06-11T21:58:04.368111Z",
     "iopub.status.idle": "2021-06-11T21:58:04.541134Z",
     "shell.execute_reply": "2021-06-11T21:58:04.540078Z",
     "shell.execute_reply.started": "2021-06-11T21:58:04.368514Z"
    }
   },
   "outputs": [
    {
     "name": "stdout",
     "output_type": "stream",
     "text": [
      "CPU times: user 164 ms, sys: 5.19 ms, total: 169 ms\n",
      "Wall time: 166 ms\n"
     ]
    }
   ],
   "source": [
    "%%time\n",
    "\n",
    "raw['checkin'] = cudf.to_datetime(raw.checkin, format=\"%Y-%m-%d\")\n",
    "raw['checkout'] = cudf.to_datetime(raw.checkout, format=\"%Y-%m-%d\")"
   ]
  },
  {
   "cell_type": "code",
   "execution_count": 29,
   "metadata": {
    "execution": {
     "iopub.execute_input": "2021-06-11T21:58:06.290655Z",
     "iopub.status.busy": "2021-06-11T21:58:06.289848Z",
     "iopub.status.idle": "2021-06-11T21:58:07.142791Z",
     "shell.execute_reply": "2021-06-11T21:58:07.141914Z",
     "shell.execute_reply.started": "2021-06-11T21:58:06.290575Z"
    }
   },
   "outputs": [],
   "source": [
    "raw['mn'] = raw.checkin.dt.month\n",
    "raw['dy1'] = raw.checkin.dt.weekday\n",
    "raw['dy2'] = raw.checkout.dt.weekday\n",
    "raw['length'] = cupy.log1p((raw.checkout - raw.checkin).dt.days) "
   ]
  },
  {
   "cell_type": "code",
   "execution_count": 30,
   "metadata": {
    "execution": {
     "iopub.execute_input": "2021-06-11T21:58:07.971385Z",
     "iopub.status.busy": "2021-06-11T21:58:07.970623Z",
     "iopub.status.idle": "2021-06-11T21:58:15.608247Z",
     "shell.execute_reply": "2021-06-11T21:58:15.607230Z",
     "shell.execute_reply.started": "2021-06-11T21:58:07.971313Z"
    }
   },
   "outputs": [],
   "source": [
    "tmpD = raw[raw['dcount']==0][['utrip_id', 'checkin']]\n",
    "tmpD.columns = ['utrip_id', 'first_checkin']\n",
    "raw = raw.merge(tmpD,on='utrip_id',how='left')\n",
    "tmpD = raw[raw['icount']==0][['utrip_id', 'checkout']]\n",
    "tmpD.columns = ['utrip_id', 'last_checkout']\n",
    "raw = raw.merge(tmpD,on='utrip_id',how='left')"
   ]
  },
  {
   "cell_type": "code",
   "execution_count": 31,
   "metadata": {
    "execution": {
     "iopub.execute_input": "2021-06-11T21:58:15.609876Z",
     "iopub.status.busy": "2021-06-11T21:58:15.609636Z",
     "iopub.status.idle": "2021-06-11T21:58:15.796247Z",
     "shell.execute_reply": "2021-06-11T21:58:15.795286Z",
     "shell.execute_reply.started": "2021-06-11T21:58:15.609849Z"
    }
   },
   "outputs": [],
   "source": [
    "raw['trip_length'] = ((raw.last_checkout - raw.first_checkin).dt.days)\n",
    "raw['trip_length'] = cupy.log1p(cupy.abs(raw['trip_length'])) * cupy.sign(raw['trip_length'])"
   ]
  },
  {
   "cell_type": "code",
   "execution_count": 32,
   "metadata": {
    "execution": {
     "iopub.execute_input": "2021-06-11T21:58:15.798146Z",
     "iopub.status.busy": "2021-06-11T21:58:15.797915Z",
     "iopub.status.idle": "2021-06-11T21:58:24.299581Z",
     "shell.execute_reply": "2021-06-11T21:58:24.298315Z",
     "shell.execute_reply.started": "2021-06-11T21:58:15.798121Z"
    }
   },
   "outputs": [],
   "source": [
    "tmpD = raw[raw['icount']==0][['utrip_id', 'checkin']]\n",
    "tmpD.columns = ['utrip_id', 'last_checkin']\n",
    "raw = raw.merge(tmpD,on='utrip_id',how='left')\n",
    "tmpD = raw[raw['dcount']==0][['utrip_id', 'checkout']]\n",
    "tmpD.columns = ['utrip_id', 'first_checkout']\n",
    "raw = raw.merge(tmpD,on='utrip_id',how='left')\n",
    "raw['trip_length'] = raw['trip_length'] - raw['trip_length'].mean()"
   ]
  },
  {
   "cell_type": "code",
   "execution_count": 33,
   "metadata": {
    "execution": {
     "iopub.execute_input": "2021-06-11T21:58:24.301156Z",
     "iopub.status.busy": "2021-06-11T21:58:24.300941Z",
     "iopub.status.idle": "2021-06-11T21:58:25.851316Z",
     "shell.execute_reply": "2021-06-11T21:58:25.850440Z",
     "shell.execute_reply.started": "2021-06-11T21:58:24.301133Z"
    }
   },
   "outputs": [],
   "source": [
    "raw = raw.sort_values('sorting')"
   ]
  },
  {
   "cell_type": "code",
   "execution_count": 34,
   "metadata": {
    "execution": {
     "iopub.execute_input": "2021-06-11T21:58:25.852609Z",
     "iopub.status.busy": "2021-06-11T21:58:25.852361Z",
     "iopub.status.idle": "2021-06-11T21:58:26.020595Z",
     "shell.execute_reply": "2021-06-11T21:58:26.019620Z",
     "shell.execute_reply.started": "2021-06-11T21:58:25.852584Z"
    }
   },
   "outputs": [],
   "source": [
    "shift_feature(raw, 'utrip_id_', 'checkout', 1, None, f'checkout_lag{1}')"
   ]
  },
  {
   "cell_type": "code",
   "execution_count": 35,
   "metadata": {
    "execution": {
     "iopub.execute_input": "2021-06-11T21:58:26.021838Z",
     "iopub.status.busy": "2021-06-11T21:58:26.021634Z",
     "iopub.status.idle": "2021-06-11T21:58:26.166900Z",
     "shell.execute_reply": "2021-06-11T21:58:26.165900Z",
     "shell.execute_reply.started": "2021-06-11T21:58:26.021816Z"
    }
   },
   "outputs": [],
   "source": [
    "raw['lapse'] = (raw['checkin'] - raw['checkout_lag1'] ).dt.days.fillna(-1)"
   ]
  },
  {
   "cell_type": "code",
   "execution_count": 36,
   "metadata": {
    "execution": {
     "iopub.execute_input": "2021-06-11T21:58:26.168259Z",
     "iopub.status.busy": "2021-06-11T21:58:26.168017Z",
     "iopub.status.idle": "2021-06-11T21:58:30.823425Z",
     "shell.execute_reply": "2021-06-11T21:58:30.822587Z",
     "shell.execute_reply.started": "2021-06-11T21:58:26.168233Z"
    }
   },
   "outputs": [],
   "source": [
    "# ENGINEER WEEKEND AND SEASON\n",
    "raw['day_name']= raw.checkin.dt.weekday\n",
    "raw['weekend']=raw['day_name'].isin([5,6]).astype('int8')\n",
    "df_season = cudf.DataFrame({'mn': range(1,13), 'season': ([0]*3)+([1]*3)+([2]*3)+([3]*3)})\n",
    "raw=raw.merge(df_season, how='left', on='mn')\n",
    "raw = raw.sort_values(['sorting'], ascending=True)\n"
   ]
  },
  {
   "cell_type": "code",
   "execution_count": 37,
   "metadata": {
    "execution": {
     "iopub.execute_input": "2021-06-11T21:58:30.825714Z",
     "iopub.status.busy": "2021-06-11T21:58:30.825493Z",
     "iopub.status.idle": "2021-06-11T21:58:30.872565Z",
     "shell.execute_reply": "2021-06-11T21:58:30.871915Z",
     "shell.execute_reply.started": "2021-06-11T21:58:30.825689Z"
    }
   },
   "outputs": [
    {
     "data": {
      "text/html": [
       "<div>\n",
       "<style scoped>\n",
       "    .dataframe tbody tr th:only-of-type {\n",
       "        vertical-align: middle;\n",
       "    }\n",
       "\n",
       "    .dataframe tbody tr th {\n",
       "        vertical-align: top;\n",
       "    }\n",
       "\n",
       "    .dataframe thead th {\n",
       "        text-align: right;\n",
       "    }\n",
       "</style>\n",
       "<table border=\"1\" class=\"dataframe\">\n",
       "  <thead>\n",
       "    <tr style=\"text-align: right;\">\n",
       "      <th></th>\n",
       "      <th>user_id</th>\n",
       "      <th>checkin</th>\n",
       "      <th>checkout</th>\n",
       "      <th>city_id</th>\n",
       "      <th>device_class</th>\n",
       "      <th>affiliate_id</th>\n",
       "      <th>booker_country</th>\n",
       "      <th>hotel_country</th>\n",
       "      <th>utrip_id</th>\n",
       "      <th>istest</th>\n",
       "      <th>fold</th>\n",
       "      <th>submission</th>\n",
       "      <th>N</th>\n",
       "      <th>utrip_id_</th>\n",
       "      <th>dcount</th>\n",
       "      <th>icount</th>\n",
       "      <th>city_count</th>\n",
       "      <th>city_id_</th>\n",
       "      <th>hotel_country_</th>\n",
       "      <th>booker_country_</th>\n",
       "      <th>device_class_</th>\n",
       "      <th>reverse</th>\n",
       "      <th>sorting</th>\n",
       "      <th>city_id_lag1</th>\n",
       "      <th>country_lag1</th>\n",
       "      <th>city_id_lag2</th>\n",
       "      <th>country_lag2</th>\n",
       "      <th>city_id_lag3</th>\n",
       "      <th>country_lag3</th>\n",
       "      <th>city_id_lag4</th>\n",
       "      <th>country_lag4</th>\n",
       "      <th>city_id_lag5</th>\n",
       "      <th>country_lag5</th>\n",
       "      <th>first_city</th>\n",
       "      <th>first_country</th>\n",
       "      <th>mn</th>\n",
       "      <th>dy1</th>\n",
       "      <th>dy2</th>\n",
       "      <th>length</th>\n",
       "      <th>first_checkin</th>\n",
       "      <th>last_checkout</th>\n",
       "      <th>trip_length</th>\n",
       "      <th>last_checkin</th>\n",
       "      <th>first_checkout</th>\n",
       "      <th>checkout_lag1</th>\n",
       "      <th>lapse</th>\n",
       "      <th>day_name</th>\n",
       "      <th>weekend</th>\n",
       "      <th>season</th>\n",
       "    </tr>\n",
       "  </thead>\n",
       "  <tbody>\n",
       "    <tr>\n",
       "      <th>0</th>\n",
       "      <td>1000027</td>\n",
       "      <td>2016-08-13</td>\n",
       "      <td>2016-08-14</td>\n",
       "      <td>8183.0</td>\n",
       "      <td>desktop</td>\n",
       "      <td>7168</td>\n",
       "      <td>Elbonia</td>\n",
       "      <td>Gondal</td>\n",
       "      <td>1000027_1</td>\n",
       "      <td>0</td>\n",
       "      <td>0</td>\n",
       "      <td>0</td>\n",
       "      <td>4</td>\n",
       "      <td>0</td>\n",
       "      <td>0</td>\n",
       "      <td>3</td>\n",
       "      <td>12.0</td>\n",
       "      <td>0</td>\n",
       "      <td>0</td>\n",
       "      <td>0</td>\n",
       "      <td>0</td>\n",
       "      <td>0</td>\n",
       "      <td>0</td>\n",
       "      <td>11158.0</td>\n",
       "      <td>195.0</td>\n",
       "      <td>11158.0</td>\n",
       "      <td>195.0</td>\n",
       "      <td>11158.0</td>\n",
       "      <td>195.0</td>\n",
       "      <td>11158.0</td>\n",
       "      <td>195.0</td>\n",
       "      <td>11158.0</td>\n",
       "      <td>195.0</td>\n",
       "      <td>0</td>\n",
       "      <td>0</td>\n",
       "      <td>8</td>\n",
       "      <td>5</td>\n",
       "      <td>6</td>\n",
       "      <td>0.693147</td>\n",
       "      <td>2016-08-13</td>\n",
       "      <td>2016-08-21</td>\n",
       "      <td>1.690487</td>\n",
       "      <td>2016-08-18</td>\n",
       "      <td>2016-08-14</td>\n",
       "      <td>NaT</td>\n",
       "      <td>-1.0</td>\n",
       "      <td>5</td>\n",
       "      <td>1</td>\n",
       "      <td>2</td>\n",
       "    </tr>\n",
       "    <tr>\n",
       "      <th>1</th>\n",
       "      <td>1000027</td>\n",
       "      <td>2016-08-14</td>\n",
       "      <td>2016-08-16</td>\n",
       "      <td>15626.0</td>\n",
       "      <td>desktop</td>\n",
       "      <td>7168</td>\n",
       "      <td>Elbonia</td>\n",
       "      <td>Gondal</td>\n",
       "      <td>1000027_1</td>\n",
       "      <td>0</td>\n",
       "      <td>0</td>\n",
       "      <td>0</td>\n",
       "      <td>4</td>\n",
       "      <td>0</td>\n",
       "      <td>1</td>\n",
       "      <td>2</td>\n",
       "      <td>1434.0</td>\n",
       "      <td>1</td>\n",
       "      <td>0</td>\n",
       "      <td>0</td>\n",
       "      <td>0</td>\n",
       "      <td>0</td>\n",
       "      <td>1</td>\n",
       "      <td>0.0</td>\n",
       "      <td>0.0</td>\n",
       "      <td>11158.0</td>\n",
       "      <td>195.0</td>\n",
       "      <td>11158.0</td>\n",
       "      <td>195.0</td>\n",
       "      <td>11158.0</td>\n",
       "      <td>195.0</td>\n",
       "      <td>11158.0</td>\n",
       "      <td>195.0</td>\n",
       "      <td>0</td>\n",
       "      <td>0</td>\n",
       "      <td>8</td>\n",
       "      <td>6</td>\n",
       "      <td>1</td>\n",
       "      <td>1.098612</td>\n",
       "      <td>2016-08-13</td>\n",
       "      <td>2016-08-21</td>\n",
       "      <td>1.690487</td>\n",
       "      <td>2016-08-18</td>\n",
       "      <td>2016-08-14</td>\n",
       "      <td>2016-08-14</td>\n",
       "      <td>0.0</td>\n",
       "      <td>6</td>\n",
       "      <td>1</td>\n",
       "      <td>2</td>\n",
       "    </tr>\n",
       "    <tr>\n",
       "      <th>2</th>\n",
       "      <td>1000027</td>\n",
       "      <td>2016-08-16</td>\n",
       "      <td>2016-08-18</td>\n",
       "      <td>60902.0</td>\n",
       "      <td>desktop</td>\n",
       "      <td>7168</td>\n",
       "      <td>Elbonia</td>\n",
       "      <td>Gondal</td>\n",
       "      <td>1000027_1</td>\n",
       "      <td>0</td>\n",
       "      <td>0</td>\n",
       "      <td>0</td>\n",
       "      <td>4</td>\n",
       "      <td>0</td>\n",
       "      <td>2</td>\n",
       "      <td>1</td>\n",
       "      <td>75.0</td>\n",
       "      <td>2</td>\n",
       "      <td>0</td>\n",
       "      <td>0</td>\n",
       "      <td>0</td>\n",
       "      <td>0</td>\n",
       "      <td>2</td>\n",
       "      <td>1.0</td>\n",
       "      <td>0.0</td>\n",
       "      <td>0.0</td>\n",
       "      <td>0.0</td>\n",
       "      <td>11158.0</td>\n",
       "      <td>195.0</td>\n",
       "      <td>11158.0</td>\n",
       "      <td>195.0</td>\n",
       "      <td>11158.0</td>\n",
       "      <td>195.0</td>\n",
       "      <td>0</td>\n",
       "      <td>0</td>\n",
       "      <td>8</td>\n",
       "      <td>1</td>\n",
       "      <td>3</td>\n",
       "      <td>1.098612</td>\n",
       "      <td>2016-08-13</td>\n",
       "      <td>2016-08-21</td>\n",
       "      <td>1.690487</td>\n",
       "      <td>2016-08-18</td>\n",
       "      <td>2016-08-14</td>\n",
       "      <td>2016-08-16</td>\n",
       "      <td>0.0</td>\n",
       "      <td>1</td>\n",
       "      <td>0</td>\n",
       "      <td>2</td>\n",
       "    </tr>\n",
       "    <tr>\n",
       "      <th>3</th>\n",
       "      <td>1000027</td>\n",
       "      <td>2016-08-18</td>\n",
       "      <td>2016-08-21</td>\n",
       "      <td>30628.0</td>\n",
       "      <td>desktop</td>\n",
       "      <td>253</td>\n",
       "      <td>Elbonia</td>\n",
       "      <td>Gondal</td>\n",
       "      <td>1000027_1</td>\n",
       "      <td>0</td>\n",
       "      <td>0</td>\n",
       "      <td>0</td>\n",
       "      <td>4</td>\n",
       "      <td>0</td>\n",
       "      <td>3</td>\n",
       "      <td>0</td>\n",
       "      <td>94.0</td>\n",
       "      <td>3</td>\n",
       "      <td>0</td>\n",
       "      <td>0</td>\n",
       "      <td>0</td>\n",
       "      <td>0</td>\n",
       "      <td>3</td>\n",
       "      <td>2.0</td>\n",
       "      <td>0.0</td>\n",
       "      <td>1.0</td>\n",
       "      <td>0.0</td>\n",
       "      <td>0.0</td>\n",
       "      <td>0.0</td>\n",
       "      <td>11158.0</td>\n",
       "      <td>195.0</td>\n",
       "      <td>11158.0</td>\n",
       "      <td>195.0</td>\n",
       "      <td>0</td>\n",
       "      <td>0</td>\n",
       "      <td>8</td>\n",
       "      <td>3</td>\n",
       "      <td>6</td>\n",
       "      <td>1.386294</td>\n",
       "      <td>2016-08-13</td>\n",
       "      <td>2016-08-21</td>\n",
       "      <td>1.690487</td>\n",
       "      <td>2016-08-18</td>\n",
       "      <td>2016-08-14</td>\n",
       "      <td>2016-08-18</td>\n",
       "      <td>0.0</td>\n",
       "      <td>3</td>\n",
       "      <td>0</td>\n",
       "      <td>2</td>\n",
       "    </tr>\n",
       "    <tr>\n",
       "      <th>4</th>\n",
       "      <td>1000033</td>\n",
       "      <td>2016-04-09</td>\n",
       "      <td>2016-04-11</td>\n",
       "      <td>38677.0</td>\n",
       "      <td>mobile</td>\n",
       "      <td>359</td>\n",
       "      <td>Gondal</td>\n",
       "      <td>Cobra Island</td>\n",
       "      <td>1000033_1</td>\n",
       "      <td>0</td>\n",
       "      <td>0</td>\n",
       "      <td>0</td>\n",
       "      <td>5</td>\n",
       "      <td>1</td>\n",
       "      <td>0</td>\n",
       "      <td>4</td>\n",
       "      <td>2740.0</td>\n",
       "      <td>4</td>\n",
       "      <td>1</td>\n",
       "      <td>1</td>\n",
       "      <td>1</td>\n",
       "      <td>0</td>\n",
       "      <td>4</td>\n",
       "      <td>11158.0</td>\n",
       "      <td>195.0</td>\n",
       "      <td>11158.0</td>\n",
       "      <td>195.0</td>\n",
       "      <td>11158.0</td>\n",
       "      <td>195.0</td>\n",
       "      <td>11158.0</td>\n",
       "      <td>195.0</td>\n",
       "      <td>11158.0</td>\n",
       "      <td>195.0</td>\n",
       "      <td>4</td>\n",
       "      <td>1</td>\n",
       "      <td>4</td>\n",
       "      <td>5</td>\n",
       "      <td>0</td>\n",
       "      <td>1.098612</td>\n",
       "      <td>2016-04-09</td>\n",
       "      <td>2016-04-19</td>\n",
       "      <td>1.891158</td>\n",
       "      <td>2016-04-16</td>\n",
       "      <td>2016-04-11</td>\n",
       "      <td>NaT</td>\n",
       "      <td>-1.0</td>\n",
       "      <td>5</td>\n",
       "      <td>1</td>\n",
       "      <td>1</td>\n",
       "    </tr>\n",
       "    <tr>\n",
       "      <th>5</th>\n",
       "      <td>1000033</td>\n",
       "      <td>2016-04-11</td>\n",
       "      <td>2016-04-12</td>\n",
       "      <td>52089.0</td>\n",
       "      <td>desktop</td>\n",
       "      <td>384</td>\n",
       "      <td>Gondal</td>\n",
       "      <td>Cobra Island</td>\n",
       "      <td>1000033_1</td>\n",
       "      <td>0</td>\n",
       "      <td>0</td>\n",
       "      <td>0</td>\n",
       "      <td>5</td>\n",
       "      <td>1</td>\n",
       "      <td>1</td>\n",
       "      <td>3</td>\n",
       "      <td>195.0</td>\n",
       "      <td>5</td>\n",
       "      <td>1</td>\n",
       "      <td>1</td>\n",
       "      <td>0</td>\n",
       "      <td>0</td>\n",
       "      <td>5</td>\n",
       "      <td>4.0</td>\n",
       "      <td>1.0</td>\n",
       "      <td>11158.0</td>\n",
       "      <td>195.0</td>\n",
       "      <td>11158.0</td>\n",
       "      <td>195.0</td>\n",
       "      <td>11158.0</td>\n",
       "      <td>195.0</td>\n",
       "      <td>11158.0</td>\n",
       "      <td>195.0</td>\n",
       "      <td>4</td>\n",
       "      <td>1</td>\n",
       "      <td>4</td>\n",
       "      <td>0</td>\n",
       "      <td>1</td>\n",
       "      <td>0.693147</td>\n",
       "      <td>2016-04-09</td>\n",
       "      <td>2016-04-19</td>\n",
       "      <td>1.891158</td>\n",
       "      <td>2016-04-16</td>\n",
       "      <td>2016-04-11</td>\n",
       "      <td>2016-04-11</td>\n",
       "      <td>0.0</td>\n",
       "      <td>0</td>\n",
       "      <td>0</td>\n",
       "      <td>1</td>\n",
       "    </tr>\n",
       "    <tr>\n",
       "      <th>6</th>\n",
       "      <td>1000033</td>\n",
       "      <td>2016-04-12</td>\n",
       "      <td>2016-04-14</td>\n",
       "      <td>21328.0</td>\n",
       "      <td>desktop</td>\n",
       "      <td>384</td>\n",
       "      <td>Gondal</td>\n",
       "      <td>Cobra Island</td>\n",
       "      <td>1000033_1</td>\n",
       "      <td>0</td>\n",
       "      <td>0</td>\n",
       "      <td>0</td>\n",
       "      <td>5</td>\n",
       "      <td>1</td>\n",
       "      <td>2</td>\n",
       "      <td>2</td>\n",
       "      <td>2047.0</td>\n",
       "      <td>6</td>\n",
       "      <td>1</td>\n",
       "      <td>1</td>\n",
       "      <td>0</td>\n",
       "      <td>0</td>\n",
       "      <td>6</td>\n",
       "      <td>5.0</td>\n",
       "      <td>1.0</td>\n",
       "      <td>4.0</td>\n",
       "      <td>1.0</td>\n",
       "      <td>11158.0</td>\n",
       "      <td>195.0</td>\n",
       "      <td>11158.0</td>\n",
       "      <td>195.0</td>\n",
       "      <td>11158.0</td>\n",
       "      <td>195.0</td>\n",
       "      <td>4</td>\n",
       "      <td>1</td>\n",
       "      <td>4</td>\n",
       "      <td>1</td>\n",
       "      <td>3</td>\n",
       "      <td>1.098612</td>\n",
       "      <td>2016-04-09</td>\n",
       "      <td>2016-04-19</td>\n",
       "      <td>1.891158</td>\n",
       "      <td>2016-04-16</td>\n",
       "      <td>2016-04-11</td>\n",
       "      <td>2016-04-12</td>\n",
       "      <td>0.0</td>\n",
       "      <td>1</td>\n",
       "      <td>0</td>\n",
       "      <td>1</td>\n",
       "    </tr>\n",
       "    <tr>\n",
       "      <th>7</th>\n",
       "      <td>1000033</td>\n",
       "      <td>2016-04-14</td>\n",
       "      <td>2016-04-16</td>\n",
       "      <td>27485.0</td>\n",
       "      <td>desktop</td>\n",
       "      <td>384</td>\n",
       "      <td>Gondal</td>\n",
       "      <td>Cobra Island</td>\n",
       "      <td>1000033_1</td>\n",
       "      <td>0</td>\n",
       "      <td>0</td>\n",
       "      <td>0</td>\n",
       "      <td>5</td>\n",
       "      <td>1</td>\n",
       "      <td>3</td>\n",
       "      <td>1</td>\n",
       "      <td>421.0</td>\n",
       "      <td>7</td>\n",
       "      <td>1</td>\n",
       "      <td>1</td>\n",
       "      <td>0</td>\n",
       "      <td>0</td>\n",
       "      <td>7</td>\n",
       "      <td>6.0</td>\n",
       "      <td>1.0</td>\n",
       "      <td>5.0</td>\n",
       "      <td>1.0</td>\n",
       "      <td>4.0</td>\n",
       "      <td>1.0</td>\n",
       "      <td>11158.0</td>\n",
       "      <td>195.0</td>\n",
       "      <td>11158.0</td>\n",
       "      <td>195.0</td>\n",
       "      <td>4</td>\n",
       "      <td>1</td>\n",
       "      <td>4</td>\n",
       "      <td>3</td>\n",
       "      <td>5</td>\n",
       "      <td>1.098612</td>\n",
       "      <td>2016-04-09</td>\n",
       "      <td>2016-04-19</td>\n",
       "      <td>1.891158</td>\n",
       "      <td>2016-04-16</td>\n",
       "      <td>2016-04-11</td>\n",
       "      <td>2016-04-14</td>\n",
       "      <td>0.0</td>\n",
       "      <td>3</td>\n",
       "      <td>0</td>\n",
       "      <td>1</td>\n",
       "    </tr>\n",
       "    <tr>\n",
       "      <th>8</th>\n",
       "      <td>1000033</td>\n",
       "      <td>2016-04-16</td>\n",
       "      <td>2016-04-19</td>\n",
       "      <td>38677.0</td>\n",
       "      <td>desktop</td>\n",
       "      <td>384</td>\n",
       "      <td>Gondal</td>\n",
       "      <td>Cobra Island</td>\n",
       "      <td>1000033_1</td>\n",
       "      <td>0</td>\n",
       "      <td>0</td>\n",
       "      <td>0</td>\n",
       "      <td>5</td>\n",
       "      <td>1</td>\n",
       "      <td>4</td>\n",
       "      <td>0</td>\n",
       "      <td>2740.0</td>\n",
       "      <td>4</td>\n",
       "      <td>1</td>\n",
       "      <td>1</td>\n",
       "      <td>0</td>\n",
       "      <td>0</td>\n",
       "      <td>8</td>\n",
       "      <td>7.0</td>\n",
       "      <td>1.0</td>\n",
       "      <td>6.0</td>\n",
       "      <td>1.0</td>\n",
       "      <td>5.0</td>\n",
       "      <td>1.0</td>\n",
       "      <td>4.0</td>\n",
       "      <td>1.0</td>\n",
       "      <td>11158.0</td>\n",
       "      <td>195.0</td>\n",
       "      <td>4</td>\n",
       "      <td>1</td>\n",
       "      <td>4</td>\n",
       "      <td>5</td>\n",
       "      <td>1</td>\n",
       "      <td>1.386294</td>\n",
       "      <td>2016-04-09</td>\n",
       "      <td>2016-04-19</td>\n",
       "      <td>1.891158</td>\n",
       "      <td>2016-04-16</td>\n",
       "      <td>2016-04-11</td>\n",
       "      <td>2016-04-16</td>\n",
       "      <td>0.0</td>\n",
       "      <td>5</td>\n",
       "      <td>1</td>\n",
       "      <td>1</td>\n",
       "    </tr>\n",
       "    <tr>\n",
       "      <th>9</th>\n",
       "      <td>1000045</td>\n",
       "      <td>2016-06-18</td>\n",
       "      <td>2016-06-20</td>\n",
       "      <td>64876.0</td>\n",
       "      <td>desktop</td>\n",
       "      <td>2790</td>\n",
       "      <td>The Devilfire Empire</td>\n",
       "      <td>Fook Island</td>\n",
       "      <td>1000045_1</td>\n",
       "      <td>0</td>\n",
       "      <td>0</td>\n",
       "      <td>0</td>\n",
       "      <td>7</td>\n",
       "      <td>2</td>\n",
       "      <td>0</td>\n",
       "      <td>6</td>\n",
       "      <td>9634.0</td>\n",
       "      <td>8</td>\n",
       "      <td>2</td>\n",
       "      <td>2</td>\n",
       "      <td>0</td>\n",
       "      <td>0</td>\n",
       "      <td>9</td>\n",
       "      <td>11158.0</td>\n",
       "      <td>195.0</td>\n",
       "      <td>11158.0</td>\n",
       "      <td>195.0</td>\n",
       "      <td>11158.0</td>\n",
       "      <td>195.0</td>\n",
       "      <td>11158.0</td>\n",
       "      <td>195.0</td>\n",
       "      <td>11158.0</td>\n",
       "      <td>195.0</td>\n",
       "      <td>8</td>\n",
       "      <td>2</td>\n",
       "      <td>6</td>\n",
       "      <td>5</td>\n",
       "      <td>0</td>\n",
       "      <td>1.098612</td>\n",
       "      <td>2016-06-18</td>\n",
       "      <td>2016-06-29</td>\n",
       "      <td>1.978169</td>\n",
       "      <td>2016-06-28</td>\n",
       "      <td>2016-06-20</td>\n",
       "      <td>NaT</td>\n",
       "      <td>-1.0</td>\n",
       "      <td>5</td>\n",
       "      <td>1</td>\n",
       "      <td>1</td>\n",
       "    </tr>\n",
       "  </tbody>\n",
       "</table>\n",
       "</div>"
      ],
      "text/plain": [
       "   user_id    checkin   checkout  city_id device_class  affiliate_id  \\\n",
       "0  1000027 2016-08-13 2016-08-14   8183.0      desktop          7168   \n",
       "1  1000027 2016-08-14 2016-08-16  15626.0      desktop          7168   \n",
       "2  1000027 2016-08-16 2016-08-18  60902.0      desktop          7168   \n",
       "3  1000027 2016-08-18 2016-08-21  30628.0      desktop           253   \n",
       "4  1000033 2016-04-09 2016-04-11  38677.0       mobile           359   \n",
       "5  1000033 2016-04-11 2016-04-12  52089.0      desktop           384   \n",
       "6  1000033 2016-04-12 2016-04-14  21328.0      desktop           384   \n",
       "7  1000033 2016-04-14 2016-04-16  27485.0      desktop           384   \n",
       "8  1000033 2016-04-16 2016-04-19  38677.0      desktop           384   \n",
       "9  1000045 2016-06-18 2016-06-20  64876.0      desktop          2790   \n",
       "\n",
       "         booker_country hotel_country   utrip_id  istest  fold  submission  N  \\\n",
       "0               Elbonia        Gondal  1000027_1       0     0           0  4   \n",
       "1               Elbonia        Gondal  1000027_1       0     0           0  4   \n",
       "2               Elbonia        Gondal  1000027_1       0     0           0  4   \n",
       "3               Elbonia        Gondal  1000027_1       0     0           0  4   \n",
       "4                Gondal  Cobra Island  1000033_1       0     0           0  5   \n",
       "5                Gondal  Cobra Island  1000033_1       0     0           0  5   \n",
       "6                Gondal  Cobra Island  1000033_1       0     0           0  5   \n",
       "7                Gondal  Cobra Island  1000033_1       0     0           0  5   \n",
       "8                Gondal  Cobra Island  1000033_1       0     0           0  5   \n",
       "9  The Devilfire Empire   Fook Island  1000045_1       0     0           0  7   \n",
       "\n",
       "   utrip_id_  dcount  icount  city_count  city_id_  hotel_country_  \\\n",
       "0          0       0       3        12.0         0               0   \n",
       "1          0       1       2      1434.0         1               0   \n",
       "2          0       2       1        75.0         2               0   \n",
       "3          0       3       0        94.0         3               0   \n",
       "4          1       0       4      2740.0         4               1   \n",
       "5          1       1       3       195.0         5               1   \n",
       "6          1       2       2      2047.0         6               1   \n",
       "7          1       3       1       421.0         7               1   \n",
       "8          1       4       0      2740.0         4               1   \n",
       "9          2       0       6      9634.0         8               2   \n",
       "\n",
       "   booker_country_  device_class_  reverse  sorting  city_id_lag1  \\\n",
       "0                0              0        0        0       11158.0   \n",
       "1                0              0        0        1           0.0   \n",
       "2                0              0        0        2           1.0   \n",
       "3                0              0        0        3           2.0   \n",
       "4                1              1        0        4       11158.0   \n",
       "5                1              0        0        5           4.0   \n",
       "6                1              0        0        6           5.0   \n",
       "7                1              0        0        7           6.0   \n",
       "8                1              0        0        8           7.0   \n",
       "9                2              0        0        9       11158.0   \n",
       "\n",
       "   country_lag1  city_id_lag2  country_lag2  city_id_lag3  country_lag3  \\\n",
       "0         195.0       11158.0         195.0       11158.0         195.0   \n",
       "1           0.0       11158.0         195.0       11158.0         195.0   \n",
       "2           0.0           0.0           0.0       11158.0         195.0   \n",
       "3           0.0           1.0           0.0           0.0           0.0   \n",
       "4         195.0       11158.0         195.0       11158.0         195.0   \n",
       "5           1.0       11158.0         195.0       11158.0         195.0   \n",
       "6           1.0           4.0           1.0       11158.0         195.0   \n",
       "7           1.0           5.0           1.0           4.0           1.0   \n",
       "8           1.0           6.0           1.0           5.0           1.0   \n",
       "9         195.0       11158.0         195.0       11158.0         195.0   \n",
       "\n",
       "   city_id_lag4  country_lag4  city_id_lag5  country_lag5  first_city  \\\n",
       "0       11158.0         195.0       11158.0         195.0           0   \n",
       "1       11158.0         195.0       11158.0         195.0           0   \n",
       "2       11158.0         195.0       11158.0         195.0           0   \n",
       "3       11158.0         195.0       11158.0         195.0           0   \n",
       "4       11158.0         195.0       11158.0         195.0           4   \n",
       "5       11158.0         195.0       11158.0         195.0           4   \n",
       "6       11158.0         195.0       11158.0         195.0           4   \n",
       "7       11158.0         195.0       11158.0         195.0           4   \n",
       "8           4.0           1.0       11158.0         195.0           4   \n",
       "9       11158.0         195.0       11158.0         195.0           8   \n",
       "\n",
       "   first_country  mn  dy1  dy2    length first_checkin last_checkout  \\\n",
       "0              0   8    5    6  0.693147    2016-08-13    2016-08-21   \n",
       "1              0   8    6    1  1.098612    2016-08-13    2016-08-21   \n",
       "2              0   8    1    3  1.098612    2016-08-13    2016-08-21   \n",
       "3              0   8    3    6  1.386294    2016-08-13    2016-08-21   \n",
       "4              1   4    5    0  1.098612    2016-04-09    2016-04-19   \n",
       "5              1   4    0    1  0.693147    2016-04-09    2016-04-19   \n",
       "6              1   4    1    3  1.098612    2016-04-09    2016-04-19   \n",
       "7              1   4    3    5  1.098612    2016-04-09    2016-04-19   \n",
       "8              1   4    5    1  1.386294    2016-04-09    2016-04-19   \n",
       "9              2   6    5    0  1.098612    2016-06-18    2016-06-29   \n",
       "\n",
       "   trip_length last_checkin first_checkout checkout_lag1  lapse  day_name  \\\n",
       "0     1.690487   2016-08-18     2016-08-14           NaT   -1.0         5   \n",
       "1     1.690487   2016-08-18     2016-08-14    2016-08-14    0.0         6   \n",
       "2     1.690487   2016-08-18     2016-08-14    2016-08-16    0.0         1   \n",
       "3     1.690487   2016-08-18     2016-08-14    2016-08-18    0.0         3   \n",
       "4     1.891158   2016-04-16     2016-04-11           NaT   -1.0         5   \n",
       "5     1.891158   2016-04-16     2016-04-11    2016-04-11    0.0         0   \n",
       "6     1.891158   2016-04-16     2016-04-11    2016-04-12    0.0         1   \n",
       "7     1.891158   2016-04-16     2016-04-11    2016-04-14    0.0         3   \n",
       "8     1.891158   2016-04-16     2016-04-11    2016-04-16    0.0         5   \n",
       "9     1.978169   2016-06-28     2016-06-20           NaT   -1.0         5   \n",
       "\n",
       "   weekend  season  \n",
       "0        1       2  \n",
       "1        1       2  \n",
       "2        0       2  \n",
       "3        0       2  \n",
       "4        1       1  \n",
       "5        0       1  \n",
       "6        0       1  \n",
       "7        0       1  \n",
       "8        1       1  \n",
       "9        1       1  "
      ]
     },
     "execution_count": 37,
     "metadata": {},
     "output_type": "execute_result"
    }
   ],
   "source": [
    "raw.head(10)"
   ]
  },
  {
   "cell_type": "code",
   "execution_count": 39,
   "metadata": {
    "execution": {
     "iopub.execute_input": "2021-06-11T21:58:41.868108Z",
     "iopub.status.busy": "2021-06-11T21:58:41.867333Z",
     "iopub.status.idle": "2021-06-11T21:58:42.800183Z",
     "shell.execute_reply": "2021-06-11T21:58:42.799485Z",
     "shell.execute_reply.started": "2021-06-11T21:58:41.868034Z"
    }
   },
   "outputs": [
    {
     "data": {
      "text/plain": [
       "(-1.3960403887864967, 1.9599287461101234)"
      ]
     },
     "execution_count": 39,
     "metadata": {},
     "output_type": "execute_result"
    },
    {
     "data": {
      "image/png": "[encoded data removed]",
      "text/plain": [
       "<Figure size 432x288 with 1 Axes>"
      ]
     },
     "metadata": {
      "needs_background": "light"
     },
     "output_type": "display_data"
    }
   ],
   "source": [
    "_ = plt.hist(raw['lapse'], bins=100, log=True)\n",
    "raw['lapse'].mean(), raw['lapse'].std()"
   ]
  },
  {
   "cell_type": "code",
   "execution_count": 41,
   "metadata": {
    "execution": {
     "iopub.execute_input": "2021-06-11T21:58:59.868084Z",
     "iopub.status.busy": "2021-06-11T21:58:59.867323Z",
     "iopub.status.idle": "2021-06-11T21:59:00.515708Z",
     "shell.execute_reply": "2021-06-11T21:59:00.514939Z",
     "shell.execute_reply.started": "2021-06-11T21:58:59.868014Z"
    }
   },
   "outputs": [
    {
     "data": {
      "text/plain": [
       "(6.112431088024829, 2.782527763092957)"
      ]
     },
     "execution_count": 41,
     "metadata": {},
     "output_type": "execute_result"
    },
    {
     "data": {
      "image/png": "[encoded data removed]",
      "text/plain": [
       "<Figure size 432x288 with 1 Axes>"
      ]
     },
     "metadata": {
      "needs_background": "light"
     },
     "output_type": "display_data"
    }
   ],
   "source": [
    "_ = plt.hist(raw['N'], bins=100, log=True)\n",
    "raw['N'].mean(), raw['N'].std()"
   ]
  },
  {
   "cell_type": "code",
   "execution_count": 42,
   "metadata": {
    "execution": {
     "iopub.execute_input": "2021-06-11T21:59:01.906054Z",
     "iopub.status.busy": "2021-06-11T21:59:01.905336Z",
     "iopub.status.idle": "2021-06-11T21:59:02.102920Z",
     "shell.execute_reply": "2021-06-11T21:59:02.101948Z",
     "shell.execute_reply.started": "2021-06-11T21:59:01.905986Z"
    }
   },
   "outputs": [],
   "source": [
    "raw['N'] = raw['N'] - raw['N'].mean()\n",
    "raw['N'] /= 3"
   ]
  },
  {
   "cell_type": "code",
   "execution_count": 44,
   "metadata": {
    "execution": {
     "iopub.execute_input": "2021-06-11T21:59:14.522948Z",
     "iopub.status.busy": "2021-06-11T21:59:14.522106Z",
     "iopub.status.idle": "2021-06-11T21:59:15.306224Z",
     "shell.execute_reply": "2021-06-11T21:59:15.305519Z",
     "shell.execute_reply.started": "2021-06-11T21:59:14.522874Z"
    }
   },
   "outputs": [
    {
     "data": {
      "text/plain": [
       "(-2.502308603975272e-16, 0.3366646944487058)"
      ]
     },
     "execution_count": 44,
     "metadata": {},
     "output_type": "execute_result"
    },
    {
     "data": {
      "image/png": "[encoded data removed]",
      "text/plain": [
       "<Figure size 432x288 with 1 Axes>"
      ]
     },
     "metadata": {
      "needs_background": "light"
     },
     "output_type": "display_data"
    }
   ],
   "source": [
    "_ = plt.hist(raw['trip_length'], bins=100, log=True)\n",
    "raw['trip_length'].mean(), raw['length'].std()"
   ]
  },
  {
   "cell_type": "code",
   "execution_count": 45,
   "metadata": {
    "execution": {
     "iopub.execute_input": "2021-06-11T21:59:33.415081Z",
     "iopub.status.busy": "2021-06-11T21:59:33.414174Z",
     "iopub.status.idle": "2021-06-11T21:59:34.168302Z",
     "shell.execute_reply": "2021-06-11T21:59:34.167321Z",
     "shell.execute_reply.started": "2021-06-11T21:59:33.415005Z"
    }
   },
   "outputs": [
    {
     "data": {
      "text/plain": [
       "(0.9421659416330279, 0.3366646944487058)"
      ]
     },
     "execution_count": 45,
     "metadata": {},
     "output_type": "execute_result"
    },
    {
     "data": {
      "image/png": "[encoded data removed]",
      "text/plain": [
       "<Figure size 432x288 with 1 Axes>"
      ]
     },
     "metadata": {
      "needs_background": "light"
     },
     "output_type": "display_data"
    }
   ],
   "source": [
    "_ = plt.hist(raw['length'], bins=100, log=True)\n",
    "raw['length'].mean(), raw['length'].std()"
   ]
  },
  {
   "cell_type": "code",
   "execution_count": 46,
   "metadata": {
    "execution": {
     "iopub.execute_input": "2021-06-11T21:59:35.407819Z",
     "iopub.status.busy": "2021-06-11T21:59:35.407051Z",
     "iopub.status.idle": "2021-06-11T21:59:35.500973Z",
     "shell.execute_reply": "2021-06-11T21:59:35.500050Z",
     "shell.execute_reply.started": "2021-06-11T21:59:35.407746Z"
    }
   },
   "outputs": [],
   "source": [
    "raw['log_icount'] = cupy.log1p(raw['icount'])\n",
    "raw['log_dcount'] = cupy.log1p(raw['dcount'])"
   ]
  },
  {
   "cell_type": "code",
   "execution_count": 47,
   "metadata": {
    "execution": {
     "iopub.execute_input": "2021-06-11T21:59:49.186309Z",
     "iopub.status.busy": "2021-06-11T21:59:49.185575Z",
     "iopub.status.idle": "2021-06-11T21:59:49.874265Z",
     "shell.execute_reply": "2021-06-11T21:59:49.873543Z",
     "shell.execute_reply.started": "2021-06-11T21:59:49.186238Z"
    }
   },
   "outputs": [
    {
     "data": {
      "text/plain": [
       "(1.0630507964633789, 0.6584902605051619)"
      ]
     },
     "execution_count": 47,
     "metadata": {},
     "output_type": "execute_result"
    },
    {
     "data": {
      "image/png": "[encoded data removed]",
      "text/plain": [
       "<Figure size 432x288 with 1 Axes>"
      ]
     },
     "metadata": {
      "needs_background": "light"
     },
     "output_type": "display_data"
    }
   ],
   "source": [
    "_ = plt.hist(raw['log_icount'], bins=100, log=True)\n",
    "raw['log_icount'].mean(), raw['log_icount'].std()"
   ]
  },
  {
   "cell_type": "code",
   "execution_count": 48,
   "metadata": {
    "execution": {
     "iopub.execute_input": "2021-06-11T22:00:00.218918Z",
     "iopub.status.busy": "2021-06-11T22:00:00.218128Z",
     "iopub.status.idle": "2021-06-11T22:00:01.074594Z",
     "shell.execute_reply": "2021-06-11T22:00:01.073795Z",
     "shell.execute_reply.started": "2021-06-11T22:00:00.218845Z"
    }
   },
   "outputs": [
    {
     "data": {
      "text/plain": [
       "(1.0630507964633786, 0.6584902605051619)"
      ]
     },
     "execution_count": 48,
     "metadata": {},
     "output_type": "execute_result"
    },
    {
     "data": {
      "image/png": "[encoded data removed]",
      "text/plain": [
       "<Figure size 432x288 with 1 Axes>"
      ]
     },
     "metadata": {
      "needs_background": "light"
     },
     "output_type": "display_data"
    }
   ],
   "source": [
    "_ = plt.hist(raw['log_dcount'], bins=100, log=True)\n",
    "raw['log_dcount'].mean(), raw['log_dcount'].std()"
   ]
  },
  {
   "cell_type": "code",
   "execution_count": 49,
   "metadata": {
    "execution": {
     "iopub.execute_input": "2021-06-11T22:00:01.615272Z",
     "iopub.status.busy": "2021-06-11T22:00:01.614556Z",
     "iopub.status.idle": "2021-06-11T22:00:01.637249Z",
     "shell.execute_reply": "2021-06-11T22:00:01.636574Z",
     "shell.execute_reply.started": "2021-06-11T22:00:01.615202Z"
    }
   },
   "outputs": [
    {
     "data": {
      "text/plain": [
       "array([ 8,  4,  6,  7,  9, 10, 12,  2, 11,  5,  3,  1])"
      ]
     },
     "execution_count": 49,
     "metadata": {},
     "output_type": "execute_result"
    }
   ],
   "source": [
    "raw['mn'].unique()"
   ]
  },
  {
   "cell_type": "code",
   "execution_count": 50,
   "metadata": {
    "execution": {
     "iopub.execute_input": "2021-06-11T22:00:02.832776Z",
     "iopub.status.busy": "2021-06-11T22:00:02.832029Z",
     "iopub.status.idle": "2021-06-11T22:00:02.855966Z",
     "shell.execute_reply": "2021-06-11T22:00:02.854937Z",
     "shell.execute_reply.started": "2021-06-11T22:00:02.832703Z"
    }
   },
   "outputs": [
    {
     "data": {
      "text/plain": [
       "array([5, 6, 1, 3, 0, 2, 4])"
      ]
     },
     "execution_count": 50,
     "metadata": {},
     "output_type": "execute_result"
    }
   ],
   "source": [
    "raw['dy1'].unique()"
   ]
  },
  {
   "cell_type": "code",
   "execution_count": 51,
   "metadata": {
    "execution": {
     "iopub.execute_input": "2021-06-11T22:00:03.846141Z",
     "iopub.status.busy": "2021-06-11T22:00:03.845364Z",
     "iopub.status.idle": "2021-06-11T22:00:03.868011Z",
     "shell.execute_reply": "2021-06-11T22:00:03.867223Z",
     "shell.execute_reply.started": "2021-06-11T22:00:03.846067Z"
    }
   },
   "outputs": [
    {
     "data": {
      "text/plain": [
       "array([6, 1, 3, 0, 5, 2, 4])"
      ]
     },
     "execution_count": 51,
     "metadata": {},
     "output_type": "execute_result"
    }
   ],
   "source": [
    "raw['dy2'].unique()"
   ]
  },
  {
   "cell_type": "code",
   "execution_count": 52,
   "metadata": {
    "execution": {
     "iopub.execute_input": "2021-06-11T22:00:05.757182Z",
     "iopub.status.busy": "2021-06-11T22:00:05.756395Z",
     "iopub.status.idle": "2021-06-11T22:00:05.780365Z",
     "shell.execute_reply": "2021-06-11T22:00:05.779504Z",
     "shell.execute_reply.started": "2021-06-11T22:00:05.757103Z"
    }
   },
   "outputs": [],
   "source": [
    "class BookingDataset(Dataset):\n",
    "    def __init__(self,\n",
    "                 data,\n",
    "                 target=None,\n",
    "                ):\n",
    "        super(BookingDataset, self).__init__()\n",
    "        self.lag_cities_ = data[lag_cities].values\n",
    "        self.mn = data['mn'].values - 1\n",
    "        self.dy1 = data['dy1'].values\n",
    "        self.dy2 = data['dy2'].values\n",
    "        self.length = data['length'].values\n",
    "        self.trip_length = data['trip_length'].values\n",
    "        self.N = data['N'].values\n",
    "        self.log_icount = data['log_icount'].values\n",
    "        self.log_dcount = data['log_dcount'].values\n",
    "        self.lag_countries_ = data[lag_countries].values\n",
    "        self.first_city = data['first_city'].values\n",
    "        self.first_country = data['first_country'].values\n",
    "        self.booker_country_ = data['booker_country_'].values\n",
    "        self.device_class_ = data['device_class_'].values\n",
    "        self.lapse = data['lapse'].values\n",
    "        self.season = data['season'].values\n",
    "        self.weekend = data['weekend'].values\n",
    "        if target is None:\n",
    "            self.target = None\n",
    "        else:\n",
    "            self.target = data[target].values\n",
    "        \n",
    "    def __len__(self):\n",
    "        return len(self.lag_cities_)\n",
    "        \n",
    "    def __getitem__(self, idx: int):\n",
    "        input_dict = {\n",
    "            'lag_cities_': torch.tensor(self.lag_cities_[idx], dtype=torch.long),\n",
    "            'mn': torch.tensor([self.mn[idx]], dtype=torch.long),\n",
    "            'dy1': torch.tensor([self.dy1[idx]], dtype=torch.long),\n",
    "            'dy2': torch.tensor([self.dy2[idx]], dtype=torch.long),\n",
    "            'length': torch.tensor([self.length[idx]], dtype=torch.float),\n",
    "            'trip_length': torch.tensor([self.trip_length[idx]], dtype=torch.float),\n",
    "            'N': torch.tensor([self.N[idx]], dtype=torch.float),\n",
    "            'log_icount': torch.tensor([self.log_icount[idx]], dtype=torch.float),\n",
    "            'log_dcount': torch.tensor([self.log_dcount[idx]], dtype=torch.float),\n",
    "            'lag_countries_': torch.tensor(self.lag_countries_[idx], dtype=torch.long),\n",
    "            'first_city': torch.tensor([self.first_city[idx]], dtype=torch.long),\n",
    "            'first_country': torch.tensor([self.first_country[idx]], dtype=torch.long),\n",
    "            'booker_country_': torch.tensor([self.booker_country_[idx]], dtype=torch.long),\n",
    "            'device_class_': torch.tensor([self.device_class_[idx]], dtype=torch.long),\n",
    "            'lapse': torch.tensor([self.lapse[idx]], dtype=torch.float),\n",
    "            'season': torch.tensor([self.season[idx]], dtype=torch.long),\n",
    "            'weekend': torch.tensor([self.weekend[idx]], dtype=torch.long),\n",
    "        }\n",
    "        if self.target is not None:\n",
    "            input_dict['target'] = torch.tensor([self.target[idx]], dtype=torch.long)\n",
    "        return input_dict"
   ]
  },
  {
   "cell_type": "code",
   "execution_count": 54,
   "metadata": {
    "execution": {
     "iopub.execute_input": "2021-06-11T22:00:15.785728Z",
     "iopub.status.busy": "2021-06-11T22:00:15.784935Z",
     "iopub.status.idle": "2021-06-11T22:00:16.190517Z",
     "shell.execute_reply": "2021-06-11T22:00:16.189851Z",
     "shell.execute_reply.started": "2021-06-11T22:00:15.785653Z"
    }
   },
   "outputs": [
    {
     "data": {
      "text/plain": [
       "{'lag_cities_': tensor([    2,     1,     0, 11158, 11158]),\n",
       " 'mn': tensor([7]),\n",
       " 'dy1': tensor([3]),\n",
       " 'dy2': tensor([6]),\n",
       " 'length': tensor([1.3863]),\n",
       " 'trip_length': tensor([1.6905]),\n",
       " 'N': tensor([-0.7041]),\n",
       " 'log_icount': tensor([0.]),\n",
       " 'log_dcount': tensor([1.3863]),\n",
       " 'lag_countries_': tensor([  0,   0,   0, 195, 195]),\n",
       " 'first_city': tensor([0]),\n",
       " 'first_country': tensor([0]),\n",
       " 'booker_country_': tensor([0]),\n",
       " 'device_class_': tensor([0]),\n",
       " 'lapse': tensor([0.]),\n",
       " 'season': tensor([2]),\n",
       " 'weekend': tensor([0]),\n",
       " 'target': tensor([3])}"
      ]
     },
     "execution_count": 54,
     "metadata": {},
     "output_type": "execute_result"
    }
   ],
   "source": [
    "dataset = BookingDataset(raw, 'city_id_')\n",
    "\n",
    "dataset.__getitem__(3)"
   ]
  },
  {
   "cell_type": "code",
   "execution_count": 55,
   "metadata": {
    "execution": {
     "iopub.execute_input": "2021-06-11T22:00:17.673507Z",
     "iopub.status.busy": "2021-06-11T22:00:17.672700Z",
     "iopub.status.idle": "2021-06-11T22:00:17.696799Z",
     "shell.execute_reply": "2021-06-11T22:00:17.695924Z",
     "shell.execute_reply.started": "2021-06-11T22:00:17.673427Z"
    }
   },
   "outputs": [],
   "source": [
    "def train_epoch(loader, model, optimizer, scheduler, scaler, device):\n",
    "\n",
    "    model.train()\n",
    "    model.zero_grad()\n",
    "    train_loss = []\n",
    "    bar = tqdm(range(len(loader)))\n",
    "    load_iter = iter(loader)\n",
    "    batch = load_iter.next()\n",
    "    batch = {k:batch[k].to(device, non_blocking=True) for k in batch.keys() }\n",
    "    \n",
    "    for i in bar:\n",
    "        \n",
    "        old_batch = batch\n",
    "        if i + 1 < len(loader):\n",
    "            batch = load_iter.next()\n",
    "            batch = {k:batch[k].to(device, non_blocking=True) for k in batch.keys() }\n",
    "                    \n",
    "\n",
    "        out_dict = model(old_batch)\n",
    "        logits = out_dict['logits']\n",
    "        loss = out_dict['loss']              \n",
    "        loss_np = loss.detach().cpu().numpy()\n",
    "        \n",
    "        loss.backward()\n",
    "\n",
    "        optimizer.step()\n",
    "        scheduler.step()\n",
    "        for p in model.parameters(): \n",
    "            p.grad = None\n",
    "\n",
    "        train_loss.append(loss_np)\n",
    "        smooth_loss = sum(train_loss[-100:]) / min(len(train_loss), 100)\n",
    "        bar.set_description('loss: %.5f, smth: %.5f' % (loss_np, smooth_loss))\n",
    "    return train_loss\n",
    "\n",
    "\n",
    "def val_epoch(loader, model, device):\n",
    "\n",
    "    model.eval()\n",
    "    val_loss = []\n",
    "    LOGITS = []\n",
    "    TARGETS = []\n",
    "       \n",
    "    with torch.no_grad():\n",
    "        bar = tqdm(range(len(loader)))\n",
    "        load_iter = iter(loader)\n",
    "        batch = load_iter.next()\n",
    "        batch = {k:batch[k].to(device, non_blocking=True) for k in batch.keys() }\n",
    "\n",
    "\n",
    "        for i in bar:\n",
    "\n",
    "            old_batch = batch\n",
    "            if i + 1 < len(loader):\n",
    "                batch = load_iter.next()\n",
    "                batch = {k:batch[k].to(device, non_blocking=True) for k in batch.keys() }\n",
    "\n",
    "            out_dict = model(old_batch)\n",
    "            logits = out_dict['logits']\n",
    "            loss = out_dict['loss']              \n",
    "            loss_np = loss.detach().cpu().numpy()\n",
    "            target = old_batch['target']\n",
    "            LOGITS.append(logits.detach())\n",
    "            TARGETS.append(target.detach())\n",
    "            val_loss.append(loss_np) \n",
    "\n",
    "            smooth_loss = sum(val_loss[-100:]) / min(len(val_loss), 100)\n",
    "            bar.set_description('loss: %.5f, smth: %.5f' % (loss_np, smooth_loss))\n",
    "\n",
    "        val_loss = np.mean(val_loss)\n",
    "\n",
    "    LOGITS = torch.cat(LOGITS).cpu().numpy()\n",
    "    TARGETS = torch.cat(TARGETS).cpu().numpy()\n",
    "    \n",
    "    return val_loss, LOGITS, TARGETS\n",
    "        "
   ]
  },
  {
   "cell_type": "code",
   "execution_count": 56,
   "metadata": {
    "execution": {
     "iopub.execute_input": "2021-06-11T22:00:19.753617Z",
     "iopub.status.busy": "2021-06-11T22:00:19.752840Z",
     "iopub.status.idle": "2021-06-11T22:00:19.764861Z",
     "shell.execute_reply": "2021-06-11T22:00:19.763410Z",
     "shell.execute_reply.started": "2021-06-11T22:00:19.753547Z"
    }
   },
   "outputs": [],
   "source": [
    "def save_checkpoint(model, optimizer, scheduler, scaler, best_score, fold, seed, fname):\n",
    "    checkpoint = {\n",
    "            'model': model.state_dict(),\n",
    "            'optimizer': optimizer.state_dict(),\n",
    "            'scheduler': scheduler.state_dict(),\n",
    "            'scaler': scaler.state_dict(),\n",
    "            'epoch': epoch,\n",
    "            'best_score': best_score,\n",
    "        }\n",
    "    torch.save(checkpoint, './checkpoints/%s/%s_%d_%d.pt' % (fname, fname, fold, seed))"
   ]
  },
  {
   "cell_type": "code",
   "execution_count": 57,
   "metadata": {
    "execution": {
     "iopub.execute_input": "2021-06-11T22:00:21.265254Z",
     "iopub.status.busy": "2021-06-11T22:00:21.264479Z",
     "iopub.status.idle": "2021-06-11T22:00:21.276690Z",
     "shell.execute_reply": "2021-06-11T22:00:21.275488Z",
     "shell.execute_reply.started": "2021-06-11T22:00:21.265175Z"
    }
   },
   "outputs": [],
   "source": [
    "def load_checkpoint(fold, seed, device, fname):\n",
    "    model = Net(NUM_CITIES+1, NUM_HOTELS+1, EMBEDDING_DIM, HIDDEN_DIM, dropout_rate=DROPOUT_RATE,\n",
    "                loss=False).to(device)\n",
    " \n",
    "    checkpoint = torch.load('./checkpoints/%s/%s_%d_%d.pt' % (fname, fname, fold, seed))\n",
    "    model.load_state_dict(checkpoint['model'])\n",
    "    model.eval()\n",
    "    return model"
   ]
  },
  {
   "cell_type": "code",
   "execution_count": 58,
   "metadata": {
    "execution": {
     "iopub.execute_input": "2021-06-11T22:00:22.331169Z",
     "iopub.status.busy": "2021-06-11T22:00:22.330385Z",
     "iopub.status.idle": "2021-06-11T22:00:22.366035Z",
     "shell.execute_reply": "2021-06-11T22:00:22.365211Z",
     "shell.execute_reply.started": "2021-06-11T22:00:22.331100Z"
    }
   },
   "outputs": [],
   "source": [
    "loss_fct = torch.nn.CrossEntropyLoss(ignore_index=LOW_CITY)\n",
    "\n",
    "class Net(nn.Module):\n",
    "\n",
    "    def __init__(self, num_cities, num_countries, embedding_dim, hidden_dim, dropout_rate, loss=True):\n",
    "        super(Net, self).__init__()\n",
    "        self.loss = loss\n",
    "        self.dropout_rate = dropout_rate\n",
    "        \n",
    "        self.cities_embeddings = nn.Embedding(num_cities, embedding_dim)     \n",
    "        self.cities_embeddings.weight.data.normal_(0., 0.01)\n",
    "        print('city embedding data shape', self.cities_embeddings.weight.shape)\n",
    "\n",
    "        self.countries_embeddings = nn.Embedding(num_countries, embedding_dim)     \n",
    "        self.countries_embeddings.weight.data.normal_(0., 0.01)\n",
    "        print('country embedding data shape', self.countries_embeddings.weight.shape)\n",
    "\n",
    "        self.mn_embeddings = nn.Embedding(12, embedding_dim)     \n",
    "        self.mn_embeddings.weight.data.normal_(0., 0.01)\n",
    "\n",
    "        self.dy1_embeddings = nn.Embedding(7, embedding_dim)     \n",
    "        self.dy1_embeddings.weight.data.normal_(0., 0.01)\n",
    "\n",
    "        self.dy2_embeddings = nn.Embedding(7, embedding_dim)     \n",
    "        self.dy2_embeddings.weight.data.normal_(0., 0.01)\n",
    "        \n",
    "        #self.season_embeddings = nn.Embedding(7, embedding_dim)     \n",
    "        #self.season_embeddings.weight.data.normal_(0., 0.01)\n",
    "        \n",
    "        self.weekend_embeddings = nn.Embedding(2, embedding_dim)     \n",
    "        self.weekend_embeddings.weight.data.normal_(0., 0.01)\n",
    "        \n",
    "        self.linear_length = nn.Linear(1, embedding_dim, bias=False)\n",
    "        self.norm_length = nn.BatchNorm1d(embedding_dim)\n",
    "        self.activate_length = nn.ReLU()\n",
    "        \n",
    "        self.linear_trip_length = nn.Linear(1, embedding_dim, bias=False)\n",
    "        self.norm_trip_length = nn.BatchNorm1d(embedding_dim)\n",
    "        self.activate_trip_length = nn.ReLU()\n",
    "\n",
    "        self.linear_N = nn.Linear(1, embedding_dim, bias=False)\n",
    "        self.norm_N = nn.BatchNorm1d(embedding_dim)\n",
    "        self.activate_N = nn.ReLU()\n",
    "\n",
    "        self.linear_log_icount = nn.Linear(1, embedding_dim, bias=False)\n",
    "        self.norm_log_icount = nn.BatchNorm1d(embedding_dim)\n",
    "        self.activate_log_icount = nn.ReLU()\n",
    "\n",
    "        self.linear_log_dcount = nn.Linear(1, embedding_dim, bias=False)\n",
    "        self.norm_log_dcount = nn.BatchNorm1d(embedding_dim)\n",
    "        self.activate_log_dcount = nn.ReLU()\n",
    "\n",
    "        self.devices_embeddings = nn.Embedding(NUM_DEVICE, embedding_dim)     \n",
    "        self.devices_embeddings.weight.data.normal_(0., 0.01)\n",
    "        print('device_embeddings data shape', self.devices_embeddings.weight.shape)\n",
    "\n",
    "        self.linear_lapse = nn.Linear(1, embedding_dim, bias=False)\n",
    "        self.norm_lapse = nn.BatchNorm1d(embedding_dim)\n",
    "        self.activate_lapse = nn.ReLU()\n",
    "        \n",
    "        self.linear1 = nn.Linear((len(lag_cities) + len(lag_countries) + 1)*embedding_dim, hidden_dim)\n",
    "        self.norm1 = nn.BatchNorm1d(hidden_dim)\n",
    "        self.activate1 = nn.PReLU()\n",
    "        self.dropout1 = nn.Dropout(self.dropout_rate)\n",
    "        self.linear2 = nn.Linear(hidden_dim, hidden_dim)\n",
    "        self.norm2 = nn.BatchNorm1d(hidden_dim)\n",
    "        self.activate2 = nn.PReLU()\n",
    "        self.dropout2 = nn.Dropout(self.dropout_rate)\n",
    "        self.linear3 = nn.Linear(hidden_dim, embedding_dim)\n",
    "        self.norm3 = nn.BatchNorm1d(embedding_dim)\n",
    "        self.activate3 = nn.PReLU()\n",
    "        self.dropout3 = nn.Dropout(self.dropout_rate)\n",
    "        self.output_layer_bias = nn.Parameter(torch.Tensor(num_cities, ))\n",
    "        self.output_layer_bias.data.normal_(0., 0.01)\n",
    "        \n",
    "    def get_embed(self, x, embed):\n",
    "        bs = x.shape[0]\n",
    "        x = embed(x)      \n",
    "        # lag_embed.shape: bs, x.shape[1], embedding_dim\n",
    "        x = x.view(bs, -1)\n",
    "        return x\n",
    "\n",
    "    def forward(self, input_dict):\n",
    "        lag_embed = self.get_embed(input_dict['lag_cities_'], self.cities_embeddings)      \n",
    "        lag_countries_embed = self.get_embed(input_dict['lag_countries_'], self.countries_embeddings)      \n",
    "        mn_embed = self.get_embed(input_dict['mn'], self.mn_embeddings)      \n",
    "        dy1_embed = self.get_embed(input_dict['dy1'], self.dy1_embeddings)      \n",
    "        dy2_embed = self.get_embed(input_dict['dy2'], self.dy2_embeddings)  \n",
    "        #season_embed = self.get_embed(input_dict['season'], self.season_embeddings)  \n",
    "        weekend_embed = self.get_embed(input_dict['weekend'], self.weekend_embeddings)  \n",
    "        length = input_dict['length']\n",
    "        length_embed = self.activate_length(self.norm_length(self.linear_length(length)))\n",
    "        trip_length = input_dict['trip_length']\n",
    "        trip_length_embed = self.activate_trip_length(self.norm_trip_length(self.linear_trip_length(trip_length)))\n",
    "        N = input_dict['N']\n",
    "        N_embed = self.activate_N(self.norm_N(self.linear_N(N)))\n",
    "        lapse = input_dict['lapse']\n",
    "        lapse_embed = self.activate_lapse(self.norm_lapse(self.linear_lapse(lapse)))\n",
    "        log_icount = input_dict['log_icount']\n",
    "        log_icount_embed = self.activate_log_icount(self.norm_log_icount(self.linear_log_icount(log_icount)))\n",
    "        log_dcount = input_dict['length']\n",
    "        log_dcount_embed = self.activate_log_dcount(self.norm_log_dcount(self.linear_log_dcount(log_dcount)))\n",
    "        first_city_embed = self.get_embed(input_dict['first_city'], self.cities_embeddings)  \n",
    "        first_country_embed = self.get_embed(input_dict['first_country'], self.countries_embeddings)  \n",
    "        booker_country_embed = self.get_embed(input_dict['booker_country_'], self.countries_embeddings)  \n",
    "        device_embed = self.get_embed(input_dict['device_class_'], self.devices_embeddings)  \n",
    "        x = (mn_embed + dy1_embed + dy2_embed + length_embed + log_icount_embed + log_dcount_embed \\\n",
    "             + first_city_embed + first_country_embed + booker_country_embed + device_embed \\\n",
    "             + trip_length_embed + N_embed + lapse_embed + weekend_embed)\n",
    "        x = torch.cat([lag_embed, lag_countries_embed, x], -1)\n",
    "        x = self.activate1(self.norm1(self.linear1(x)))\n",
    "        x = self.dropout1(x)\n",
    "        x = x + self.activate2(self.norm2(self.linear2(x)))\n",
    "        x = self.dropout2(x)\n",
    "        x = self.activate3(self.norm3(self.linear3(x)))\n",
    "        x = self.dropout3(x)\n",
    "        logits = F.linear(x, self.cities_embeddings.weight, bias=self.output_layer_bias)\n",
    "        output_dict = {\n",
    "            'logits':logits\n",
    "                      }\n",
    "        if self.loss:\n",
    "            target = input_dict['target'].squeeze(1)\n",
    "            #print(logits.shape, target.shape)\n",
    "            loss = loss_fct(logits, target)\n",
    "            output_dict['loss'] = loss\n",
    "        return output_dict\n"
   ]
  },
  {
   "cell_type": "code",
   "execution_count": 63,
   "metadata": {
    "execution": {
     "iopub.execute_input": "2021-06-11T22:01:24.106389Z",
     "iopub.status.busy": "2021-06-11T22:01:24.105649Z",
     "iopub.status.idle": "2021-06-11T22:01:24.115771Z",
     "shell.execute_reply": "2021-06-11T22:01:24.114054Z",
     "shell.execute_reply.started": "2021-06-11T22:01:24.106315Z"
    }
   },
   "outputs": [],
   "source": [
    "TRAIN_BATCH_SIZE = 1024\n",
    "WORKERS = 8\n",
    "LR = 1e-3\n",
    "EPOCHS = 12\n",
    "GRADIENT_ACCUMULATION = 1\n",
    "EMBEDDING_DIM = 64\n",
    "HIDDEN_DIM =  1024\n",
    "DROPOUT_RATE = 0.2\n",
    "device = torch.device('cpu')"
   ]
  },
  {
   "cell_type": "code",
   "execution_count": 60,
   "metadata": {
    "execution": {
     "iopub.execute_input": "2021-06-11T22:00:24.933704Z",
     "iopub.status.busy": "2021-06-11T22:00:24.932938Z",
     "iopub.status.idle": "2021-06-11T22:00:24.947973Z",
     "shell.execute_reply": "2021-06-11T22:00:24.946886Z",
     "shell.execute_reply.started": "2021-06-11T22:00:24.933633Z"
    }
   },
   "outputs": [],
   "source": [
    "def get_top4(preds):\n",
    "    TOP4 = np.empty((preds.shape[0], 4))\n",
    "    for i in range(4):\n",
    "        x = np.argmax(preds, axis=1)\n",
    "        TOP4[:,i] = x\n",
    "        x = np.expand_dims(x, axis=1)\n",
    "        np.put_along_axis(preds, x, -1e10, axis=1)\n",
    "    return TOP4\n",
    "\n",
    "def top4(preds, target):\n",
    "    TOP4 = get_top4(preds)\n",
    "    acc = np.max(TOP4 == target, axis=1)\n",
    "    acc = np.mean(acc)\n",
    "    return acc"
   ]
  },
  {
   "cell_type": "code",
   "execution_count": null,
   "metadata": {
    "execution": {
     "iopub.execute_input": "2021-06-11T22:01:30.098689Z",
     "iopub.status.busy": "2021-06-11T22:01:30.097865Z"
    },
    "scrolled": true
   },
   "outputs": [
    {
     "name": "stdout",
     "output_type": "stream",
     "text": [
      "#########################\n",
      "### FOLD 0\n",
      "(1826251, 51) (43552, 51)\n",
      "city embedding data shape torch.Size([11159, 64])\n",
      "country embedding data shape torch.Size([196, 64])\n",
      "device_embeddings data shape torch.Size([3, 64])\n",
      "Sat Jun 12 01:01:31 2021 Epoch: 0\n"
     ]
    },
    {
     "name": "stderr",
     "output_type": "stream",
     "text": [
      "/tmp/.local/lib/python3.6/site-packages/torch/cuda/amp/grad_scaler.py:116: UserWarning: torch.cuda.amp.GradScaler is enabled, but CUDA is not available.  Disabling.\n",
      "  warnings.warn(\"torch.cuda.amp.GradScaler is enabled, but CUDA is not available.  Disabling.\")\n",
      "loss: 8.78003, smth: 9.02039:  19%|█▉        | 345/1784 [01:35<05:25,  4.42it/s]"
     ]
    }
   ],
   "source": [
    "TRAIN_WITH_TEST = True\n",
    "\n",
    "seed = 0\n",
    "seed_torch(seed)\n",
    "\n",
    "preds_all = []\n",
    "best_scores = []\n",
    "best_epochs = []\n",
    "for fold in range(5):\n",
    "\n",
    "    seed_torch(seed)\n",
    "    preds_fold = []\n",
    "    print('#'*25)\n",
    "    print('### FOLD %i'%(fold))\n",
    "    if TRAIN_WITH_TEST:\n",
    "        train = raw.loc[ (raw.fold!=fold)&(raw.dcount>0)&(raw.istest==0)|( (raw.istest==1)&(raw.icount>0) ) ].copy()\n",
    "    else:\n",
    "        train = raw.loc[ (raw.fold!=fold)&(raw.dcount>0)&(raw.istest==0) ].copy()\n",
    "    valid = raw.loc[ (raw.fold==fold)&(raw.istest==0)&(raw.icount==0) &(raw.reverse == 0)].copy()\n",
    "    print(train.shape, valid.shape)\n",
    "\n",
    "    train_dataset = BookingDataset(train, target='city_id_')\n",
    "\n",
    "    train_data_loader = DataLoader(\n",
    "        train_dataset,\n",
    "        batch_size=TRAIN_BATCH_SIZE,\n",
    "        num_workers=WORKERS,\n",
    "        shuffle=True,\n",
    "        pin_memory=True,\n",
    "    )\n",
    "\n",
    "    valid_dataset = BookingDataset(valid, target='city_id_')\n",
    "\n",
    "    valid_data_loader = DataLoader(\n",
    "        valid_dataset,\n",
    "        batch_size=TRAIN_BATCH_SIZE,\n",
    "        num_workers=WORKERS,\n",
    "        shuffle=False,\n",
    "        pin_memory=True,\n",
    "    )\n",
    "    \n",
    "\n",
    "    model = Net(NUM_CITIES+1, NUM_HOTELS+1, EMBEDDING_DIM, HIDDEN_DIM, dropout_rate=DROPOUT_RATE).to(device)\n",
    "\n",
    "    optimizer = torch.optim.Adam(model.parameters(), lr=LR)\n",
    "    scheduler = torch.optim.lr_scheduler.OneCycleLR(optimizer=optimizer, \n",
    "                                              pct_start=0.1, \n",
    "                                              div_factor=1e3, \n",
    "                                              max_lr=3e-3, \n",
    "                                              epochs=EPOCHS, \n",
    "                                              steps_per_epoch=int(np.ceil(len(train_data_loader)/GRADIENT_ACCUMULATION)))\n",
    "    scaler = GradScaler()\n",
    "\n",
    "    best_score = 0\n",
    "    best_epoch = 0\n",
    "\n",
    "    for epoch in range(EPOCHS):\n",
    "        print(time.ctime(), 'Epoch:', epoch, flush=True)\n",
    "        train_loss = train_epoch(train_data_loader, model, optimizer, scheduler, scaler, device)\n",
    "        val_loss, PREDS, TARGETS = val_epoch(valid_data_loader, model, device) \n",
    "        PREDS[:, LOW_CITY] = -1e10# remove low frequency cities\n",
    "        score = top4(PREDS, TARGETS)\n",
    "\n",
    "        content = 'Fold %d Seed %d Ep %d lr %.7f train loss %4f val loss %4f score %4f'\n",
    "        print(content % (fold, seed, epoch, \n",
    "                         optimizer.param_groups[0][\"lr\"],\n",
    "                         np.mean(train_loss),\n",
    "                         np.mean(val_loss),\n",
    "                         score,\n",
    "                        ), \n",
    "              flush=True)\n",
    "        if score > best_score:\n",
    "            best_score = score\n",
    "            best_epoch = epoch\n",
    "            preds_fold = PREDS\n",
    "            save_checkpoint(model, optimizer, scaler, scheduler, best_score, fold, seed, fname)\n",
    "    del model, scaler, scheduler, optimizer, valid_data_loader, valid_dataset, train_data_loader, train_dataset\n",
    "    gc.collect()\n",
    "\n",
    "    preds_all.append(preds_fold)\n",
    "    print('fold %d, best score: %0.6f best epoch: %3d' % (fold, best_score, best_epoch))\n",
    "    best_scores.append(best_score)\n",
    "    best_epochs.append(best_epoch)\n",
    "    #with open('../checkpoints/%s/%s_%d_preds.pkl' % (fname, fname, seed), 'wb') as file:\n",
    "    #    pkl.dump(preds_all, file)\n",
    "        \n",
    "    #break\n",
    "print()\n",
    "for fold, (best_score, best_epoch) in enumerate(zip(best_scores, best_epochs)):\n",
    "    print('fold %d, best score: %0.6f best epoch: %3d' % (fold, best_score, best_epoch))\n",
    "print('seed %d best score: %0.6f best epoch: %0.1f' % (seed, np.mean(best_scores), np.mean(best_epochs)))"
   ]
  },
  {
   "cell_type": "code",
   "execution_count": null,
   "metadata": {},
   "outputs": [],
   "source": [
    "def test_epoch(loader, models, device):\n",
    "\n",
    "    #model.eval()\n",
    "    PREDS = []\n",
    "    \n",
    "    with torch.no_grad():\n",
    "        if 1:\n",
    "            bar = tqdm(range(len(loader)))\n",
    "            load_iter = iter(loader)\n",
    "            batch = load_iter.next()\n",
    "            batch = {k:batch[k].to(device, non_blocking=True) for k in batch.keys() }\n",
    "\n",
    "            for i in bar:\n",
    "                old_batch = batch\n",
    "                if i + 1 < len(loader):\n",
    "                    batch = load_iter.next()\n",
    "                    batch = {k:batch[k].to(device, non_blocking=True) for k in batch.keys() }\n",
    "                    \n",
    "                preds = 0\n",
    "                for model in models:\n",
    "                    out_dict = model(old_batch)\n",
    "                    preds = preds + out_dict['logits'] / NFOLDS\n",
    "                PREDS.append(preds.detach())\n",
    "                \n",
    "    \n",
    "    PREDS = torch.cat(PREDS).cpu().numpy()\n",
    "    \n",
    "    return PREDS\n",
    "\n",
    "NFOLDS = 5\n",
    "seed = 0\n",
    "models = [load_checkpoint(fold, seed, device, fname) for fold in range(NFOLDS)]"
   ]
  },
  {
   "cell_type": "code",
   "execution_count": null,
   "metadata": {},
   "outputs": [],
   "source": [
    "pd.options.display.max_columns = 100"
   ]
  },
  {
   "cell_type": "markdown",
   "metadata": {},
   "source": [
    "## Test N-1 (leaky as we train using all test)"
   ]
  },
  {
   "cell_type": "code",
   "execution_count": null,
   "metadata": {},
   "outputs": [],
   "source": [
    "def acc(valid):\n",
    "    acc = cupy.max(valid[COLS[1:]].values == valid[['city_id']].values, axis=1)\n",
    "    acc = cupy.mean(acc)\n",
    "    return acc"
   ]
  },
  {
   "cell_type": "code",
   "execution_count": null,
   "metadata": {},
   "outputs": [],
   "source": [
    "test = raw.loc[ (raw.istest==1)&(raw.icount==1) ].copy()\n",
    "print( test.shape )\n",
    "test.head()"
   ]
  },
  {
   "cell_type": "code",
   "execution_count": null,
   "metadata": {},
   "outputs": [],
   "source": [
    "test_dataset = BookingDataset(test.to_pandas(), target=None)\n",
    "\n",
    "test_data_loader = DataLoader(\n",
    "    test_dataset,\n",
    "    batch_size=TRAIN_BATCH_SIZE,\n",
    "    num_workers=WORKERS,\n",
    "    shuffle=False,\n",
    "    pin_memory=True,\n",
    ")\n",
    "\n",
    "PREDS = test_epoch(test_data_loader, models, device) \n",
    "PREDS[:, LOW_CITY] = -1e10# remove low frequency cities\n",
    "TOP4 = get_top4(PREDS).astype('int')\n",
    "TOP4.shape\n",
    "\n",
    "COLS = ['utrip_id']"
   ]
  },
  {
   "cell_type": "code",
   "execution_count": null,
   "metadata": {},
   "outputs": [],
   "source": [
    "city_mapping = MAPS[0].reset_index()"
   ]
  },
  {
   "cell_type": "code",
   "execution_count": null,
   "metadata": {},
   "outputs": [],
   "source": [
    "CITY_MAP = MAPS[0].astype('int')\n",
    "for k in range(4):\n",
    "    test['city_id_%i'%(k+1)] = TOP4[:,k]\n",
    "    tmp = test[['city_id_%i'%(k+1)]].astype('int32').copy()\n",
    "    tmp['sorting'] = cupy.asarray(range(tmp.shape[0]))\n",
    "    tmp = tmp.merge(city_mapping, how='left', left_on='city_id_%i'%(k+1), right_on='index')\n",
    "    tmp = tmp.sort_values('sorting')\n",
    "    test['city_id_%i'%(k+1)] = tmp['city_id'].astype('int32').values.copy()\n",
    "    COLS.append('city_id_%i'%(k+1))\n",
    "    \n",
    "test[COLS].head()"
   ]
  },
  {
   "cell_type": "code",
   "execution_count": null,
   "metadata": {},
   "outputs": [],
   "source": [
    "test.head()"
   ]
  },
  {
   "cell_type": "code",
   "execution_count": null,
   "metadata": {},
   "outputs": [],
   "source": [
    "acc(test)"
   ]
  },
  {
   "cell_type": "markdown",
   "metadata": {},
   "source": [
    "## Test submission"
   ]
  },
  {
   "cell_type": "code",
   "execution_count": null,
   "metadata": {},
   "outputs": [],
   "source": [
    "test = raw.loc[ (raw.istest==1)&(raw.icount==0)&(raw.reverse==0) ].copy()\n",
    "print( test.shape )\n",
    "test.head()"
   ]
  },
  {
   "cell_type": "code",
   "execution_count": null,
   "metadata": {},
   "outputs": [],
   "source": [
    "test_dataset = BookingDataset(test.to_pandas(), target=None)\n",
    "\n",
    "test_data_loader = DataLoader(\n",
    "    test_dataset,\n",
    "    batch_size=TRAIN_BATCH_SIZE,\n",
    "    num_workers=WORKERS,\n",
    "    shuffle=False,\n",
    "    pin_memory=True,\n",
    ")\n",
    "\n",
    "PREDS = test_epoch(test_data_loader, models, device) \n",
    "PREDS[:, LOW_CITY] = -1e10# remove low frequency cities\n",
    "TOP4 = get_top4(PREDS).astype('int')\n",
    "TOP4.shape\n",
    "\n",
    "COLS = ['utrip_id']\n",
    "CITY_MAP = MAPS[0].astype('int')\n",
    "for k in range(4):\n",
    "    test['city_id_%i'%(k+1)] = TOP4[:,k]\n",
    "    tmp = test[['city_id_%i'%(k+1)]].astype('int32').copy()\n",
    "    tmp['sorting'] = cupy.asarray(range(tmp.shape[0]))\n",
    "    tmp = tmp.merge(city_mapping, how='left', left_on='city_id_%i'%(k+1), right_on='index')\n",
    "    tmp = tmp.sort_values('sorting')\n",
    "    test['city_id_%i'%(k+1)] = tmp['city_id'].astype('int32').values.copy()\n",
    "    COLS.append('city_id_%i'%(k+1))\n",
    "    \n",
    "test[COLS].head()"
   ]
  },
  {
   "cell_type": "code",
   "execution_count": null,
   "metadata": {},
   "outputs": [],
   "source": [
    "test[COLS].to_csv('%s_sub.csv' % fname, index=False)"
   ]
  },
  {
   "cell_type": "markdown",
   "metadata": {},
   "source": [
    "## OOF Prediction"
   ]
  },
  {
   "cell_type": "code",
   "execution_count": null,
   "metadata": {},
   "outputs": [],
   "source": [
    "def load_checkpoint(fold, seed, device, fname, loss=False):\n",
    "    model = Net(NUM_CITIES+1, NUM_HOTELS+1, EMBEDDING_DIM, HIDDEN_DIM, dropout_rate=DROPOUT_RATE,\n",
    "                loss=loss).to(device)\n",
    " \n",
    "    checkpoint = torch.load('./checkpoints/%s/%s_%d_%d.pt' % (fname, fname, fold, seed))\n",
    "    model.load_state_dict(checkpoint['model'])\n",
    "    model.eval()\n",
    "    return model\n",
    "\n",
    "def get_topN(preds, N):\n",
    "    TOPN = np.empty((preds.shape[0], N))\n",
    "    PREDN = np.empty((preds.shape[0], N))\n",
    "    preds = preds.copy()\n",
    "    for i in tqdm(range(N)):\n",
    "        x = np.argmax(preds, axis=1)\n",
    "        TOPN[:,i] = x\n",
    "        x = np.expand_dims(x, axis=1)\n",
    "        PREDN[:,i] = np.take_along_axis(preds, x, axis=1).ravel()\n",
    "        np.put_along_axis(preds, x, -1e10, axis=1)\n",
    "    return TOPN, PREDN\n",
    "\n",
    "def get_top4(preds):\n",
    "    preds = preds.copy()\n",
    "    TOP4 = np.empty((preds.shape[0], 4))\n",
    "    for i in range(4):\n",
    "        x = np.argmax(preds, axis=1)\n",
    "        TOP4[:,i] = x\n",
    "        x = np.expand_dims(x, axis=1)\n",
    "        np.put_along_axis(preds, x, -1e10, axis=1)\n",
    "    return TOP4\n",
    "\n",
    "def top4(preds, target):\n",
    "    TOP4 = get_top4(preds)\n",
    "    acc = np.max(TOP4 == target, axis=1)\n",
    "    acc = np.mean(acc)\n",
    "    return acc\n",
    "\n",
    "TRAIN_WITH_TEST = True\n",
    "\n",
    "seed = 0\n",
    "seed_torch(seed)\n",
    "\n",
    "preds_all = []\n",
    "test_preds_all = []\n",
    "train_all = []\n",
    "best_scores = []\n",
    "for fold in range(1):\n",
    "\n",
    "    seed_torch(seed)\n",
    "    preds_fold = []\n",
    "    print('#'*25)\n",
    "    print('### FOLD %i'%(fold))\n",
    "    valid = raw.loc[ (raw.fold==fold)&(raw.istest==0)&(raw.icount==0) &(raw.reverse == 0)].copy()\n",
    "    print(valid.shape)\n",
    "\n",
    "    valid_dataset = BookingDataset(valid.to_pandas(), target='city_id_')\n",
    "\n",
    "    valid_data_loader = DataLoader(\n",
    "        valid_dataset,\n",
    "        batch_size=TRAIN_BATCH_SIZE,\n",
    "        num_workers=WORKERS,\n",
    "        shuffle=False,\n",
    "        pin_memory=True,\n",
    "    )\n",
    "    \n",
    "    test_dataset = BookingDataset(test.to_pandas(), target=None)\n",
    "\n",
    "    test_data_loader = DataLoader(\n",
    "        test_dataset,\n",
    "        batch_size=TRAIN_BATCH_SIZE,\n",
    "        num_workers=WORKERS,\n",
    "        shuffle=False,\n",
    "        pin_memory=True,\n",
    "    )\n",
    "\n",
    "    \n",
    "    model = load_checkpoint(fold, seed, device, fname, loss=True)\n",
    "    val_loss, PREDS, TARGETS = val_epoch(valid_data_loader, model, device) \n",
    "    PREDS[:, LOW_CITY] = -1e10# remove low frequency cities\n",
    "    score = top4(PREDS, TARGETS)\n",
    "    print('fold %d, best score: %0.6f' % (fold, score))\n",
    "    score = top4(PREDS, valid[['city_id_']].to_pandas().values)\n",
    "    print('fold %d, best score: %0.6f' % (fold, score))\n",
    "    best_scores.append(score)\n",
    "    preds_all.append(PREDS)\n",
    "    train_all.append(valid.to_pandas())\n",
    "\n",
    "    model = load_checkpoint(fold, seed, device, fname, loss=False)\n",
    "    TEST_PREDS = test_epoch(test_data_loader, [model], device) \n",
    "    TEST_PREDS[:, LOW_CITY] = -1e10# remove low frequency cities\n",
    "    test_preds_all.append(TEST_PREDS)\n",
    "print('seed %d best score: %0.6f' % (seed, np.mean(best_scores)))\n",
    "\n",
    "preds_all = np.concatenate(preds_all)\n",
    "print('vaid pred shape', preds_all.shape)\n",
    "\n",
    "test_preds_all = np.mean(test_preds_all, axis=0)\n",
    "print('test pred shape', test_preds_all.shape)\n",
    "\n",
    "top_preds, top_logits = get_topN(preds_all, 4)\n",
    "targets = np.concatenate([valid[['city_id_']].values for valid in train_all])\n",
    "valid_trips = np.concatenate([valid[['utrip_id']].values for valid in train_all])\n",
    "\n",
    "print('CV score', np.mean(np.max(top_preds == targets, axis=1)))\n",
    "\n",
    "valid_trips\n",
    "\n",
    "top_preds, top_logits = get_topN(preds_all, 50)\n",
    "top_test_preds, top_test_logits = get_topN(test_preds_all, 50)\n",
    "\n",
    "\n",
    "top_preds.shape, top_logits.shape, top_test_preds.shape, top_test_logits.shape\n",
    "\n",
    "valid_cities = np.concatenate([valid[['city_id']].values for valid in train_all])\n",
    "oof = {\n",
    "    'valid_trips':valid_trips,\n",
    "    'top_preds':top_preds,\n",
    "    'top_logits':top_logits,\n",
    "    'top_test_preds':top_test_preds,\n",
    "    'top_test_logits':top_test_logits,\n",
    "    'city_map':CITY_MAP,\n",
    "    'valid_cities':valid_cities,\n",
    "}\n",
    "\n",
    "with open((checkpoint_path / (fname + '_oof.pkl')), 'wb') as file:\n",
    "    pkl.dump(oof, file)\n",
    "    \n",
    "print('done')\n"
   ]
  },
  {
   "cell_type": "code",
   "execution_count": null,
   "metadata": {},
   "outputs": [],
   "source": [
    "oof = {\n",
    "    'valid_trips':valid_trips,\n",
    "    'top_preds':top_preds,\n",
    "    'top_logits':top_logits,\n",
    "    'top_test_preds':top_test_preds,\n",
    "    'top_test_logits':top_test_logits,\n",
    "    'city_map':CITY_MAP,\n",
    "    'valid_cities':valid_cities,\n",
    "    'preds_all':preds_all,\n",
    "    'test_preds_all':test_preds_all,\n",
    "}\n",
    "\n",
    "with open((checkpoint_path / (fname + '_oof.pkl')), 'wb') as file:\n",
    "    pkl.dump(oof, file, protocol=pkl.HIGHEST_PROTOCOL)\n",
    "    \n",
    "print('done')"
   ]
  }
 ],
 "metadata": {
  "kernelspec": {
   "display_name": "Python 3",
   "language": "python",
   "name": "python3"
  },
  "language_info": {
   "codemirror_mode": {
    "name": "ipython",
    "version": 3
   },
   "file_extension": ".py",
   "mimetype": "text/x-python",
   "name": "python",
   "nbconvert_exporter": "python",
   "pygments_lexer": "ipython3",
   "version": "3.6.9"
  }
 },
 "nbformat": 4,
 "nbformat_minor": 4
}
